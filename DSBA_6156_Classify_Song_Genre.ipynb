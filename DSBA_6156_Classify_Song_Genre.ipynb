{
  "nbformat": 4,
  "nbformat_minor": 0,
  "metadata": {
    "colab": {
      "provenance": [],
      "include_colab_link": true
    },
    "kernelspec": {
      "name": "python3",
      "display_name": "Python 3"
    },
    "language_info": {
      "name": "python"
    }
  },
  "cells": [
    {
      "cell_type": "markdown",
      "metadata": {
        "id": "view-in-github",
        "colab_type": "text"
      },
      "source": [
        "<a href=\"https://colab.research.google.com/github/desaishivani/Classify-Song-Genres-from-Audio-Data/blob/main/DSBA_6156_Classify_Song_Genre.ipynb\" target=\"_parent\"><img src=\"https://colab.research.google.com/assets/colab-badge.svg\" alt=\"Open In Colab\"/></a>"
      ]
    },
    {
      "cell_type": "code",
      "source": [
        "##Importing the libraries\n",
        "import pandas as pd\n",
        "import numpy as np\n",
        "import matplotlib.pyplot as plt\n",
        "from sklearn.preprocessing import StandardScaler\n",
        "from sklearn.pipeline import Pipeline\n",
        "from sklearn.model_selection import train_test_split, cross_val_score, GridSearchCV, KFold\n",
        "from sklearn.decomposition import PCA\n",
        "from sklearn.linear_model import LogisticRegression\n",
        "from sklearn.ensemble import RandomForestClassifier\n",
        "from sklearn.neighbors import KNeighborsClassifier\n",
        "from sklearn.svm import SVC\n",
        "from sklearn.tree import DecisionTreeClassifier\n",
        "from sklearn.metrics import accuracy_score, f1_score, classification_report"
      ],
      "metadata": {
        "id": "l1sjYyl7yUwS"
      },
      "execution_count": null,
      "outputs": []
    },
    {
      "cell_type": "markdown",
      "source": [
        "# **1. Preparing our dataset**"
      ],
      "metadata": {
        "id": "VnD6liaIhngS"
      }
    },
    {
      "cell_type": "code",
      "source": [
        "from google.colab import drive\n",
        "drive.mount('/content/drive')"
      ],
      "metadata": {
        "colab": {
          "base_uri": "https://localhost:8080/"
        },
        "id": "xDsXc2b33UDs",
        "outputId": "9b29fd9d-139d-46dd-c946-05adace6c342"
      },
      "execution_count": null,
      "outputs": [
        {
          "output_type": "stream",
          "name": "stdout",
          "text": [
            "Drive already mounted at /content/drive; to attempt to forcibly remount, call drive.mount(\"/content/drive\", force_remount=True).\n"
          ]
        }
      ]
    },
    {
      "cell_type": "code",
      "execution_count": null,
      "metadata": {
        "id": "uhrOZwJCKuDp",
        "colab": {
          "base_uri": "https://localhost:8080/",
          "height": 206
        },
        "outputId": "facb9d1e-6080-4a14-ff83-76b5ffcc9351"
      },
      "outputs": [
        {
          "output_type": "execute_result",
          "data": {
            "text/plain": [
              "   track_id genre_top  acousticness  danceability    energy  instrumentalness  \\\n",
              "0       153      Rock      0.988306      0.255661  0.979774          0.973006   \n",
              "1       154      Rock      0.970135      0.352946  0.023852          0.957113   \n",
              "2       155      Rock      0.981657      0.142249  0.912122          0.967294   \n",
              "3       169      Rock      0.989141      0.225978  0.722835          0.263076   \n",
              "4       170      Rock      0.886660      0.298518  0.744333          0.920950   \n",
              "\n",
              "   liveness  speechiness   tempo   valence  \n",
              "0  0.121342     0.051740  90.241  0.034018  \n",
              "1  0.113261     0.032177  53.758  0.035632  \n",
              "2  0.363510     0.087527  91.912  0.034325  \n",
              "3  0.092371     0.053406  94.322  0.028347  \n",
              "4  0.139587     0.088781  97.880  0.073548  "
            ],
            "text/html": [
              "\n",
              "  <div id=\"df-ab911d76-62e1-4951-b935-f544b690e7ba\" class=\"colab-df-container\">\n",
              "    <div>\n",
              "<style scoped>\n",
              "    .dataframe tbody tr th:only-of-type {\n",
              "        vertical-align: middle;\n",
              "    }\n",
              "\n",
              "    .dataframe tbody tr th {\n",
              "        vertical-align: top;\n",
              "    }\n",
              "\n",
              "    .dataframe thead th {\n",
              "        text-align: right;\n",
              "    }\n",
              "</style>\n",
              "<table border=\"1\" class=\"dataframe\">\n",
              "  <thead>\n",
              "    <tr style=\"text-align: right;\">\n",
              "      <th></th>\n",
              "      <th>track_id</th>\n",
              "      <th>genre_top</th>\n",
              "      <th>acousticness</th>\n",
              "      <th>danceability</th>\n",
              "      <th>energy</th>\n",
              "      <th>instrumentalness</th>\n",
              "      <th>liveness</th>\n",
              "      <th>speechiness</th>\n",
              "      <th>tempo</th>\n",
              "      <th>valence</th>\n",
              "    </tr>\n",
              "  </thead>\n",
              "  <tbody>\n",
              "    <tr>\n",
              "      <th>0</th>\n",
              "      <td>153</td>\n",
              "      <td>Rock</td>\n",
              "      <td>0.988306</td>\n",
              "      <td>0.255661</td>\n",
              "      <td>0.979774</td>\n",
              "      <td>0.973006</td>\n",
              "      <td>0.121342</td>\n",
              "      <td>0.051740</td>\n",
              "      <td>90.241</td>\n",
              "      <td>0.034018</td>\n",
              "    </tr>\n",
              "    <tr>\n",
              "      <th>1</th>\n",
              "      <td>154</td>\n",
              "      <td>Rock</td>\n",
              "      <td>0.970135</td>\n",
              "      <td>0.352946</td>\n",
              "      <td>0.023852</td>\n",
              "      <td>0.957113</td>\n",
              "      <td>0.113261</td>\n",
              "      <td>0.032177</td>\n",
              "      <td>53.758</td>\n",
              "      <td>0.035632</td>\n",
              "    </tr>\n",
              "    <tr>\n",
              "      <th>2</th>\n",
              "      <td>155</td>\n",
              "      <td>Rock</td>\n",
              "      <td>0.981657</td>\n",
              "      <td>0.142249</td>\n",
              "      <td>0.912122</td>\n",
              "      <td>0.967294</td>\n",
              "      <td>0.363510</td>\n",
              "      <td>0.087527</td>\n",
              "      <td>91.912</td>\n",
              "      <td>0.034325</td>\n",
              "    </tr>\n",
              "    <tr>\n",
              "      <th>3</th>\n",
              "      <td>169</td>\n",
              "      <td>Rock</td>\n",
              "      <td>0.989141</td>\n",
              "      <td>0.225978</td>\n",
              "      <td>0.722835</td>\n",
              "      <td>0.263076</td>\n",
              "      <td>0.092371</td>\n",
              "      <td>0.053406</td>\n",
              "      <td>94.322</td>\n",
              "      <td>0.028347</td>\n",
              "    </tr>\n",
              "    <tr>\n",
              "      <th>4</th>\n",
              "      <td>170</td>\n",
              "      <td>Rock</td>\n",
              "      <td>0.886660</td>\n",
              "      <td>0.298518</td>\n",
              "      <td>0.744333</td>\n",
              "      <td>0.920950</td>\n",
              "      <td>0.139587</td>\n",
              "      <td>0.088781</td>\n",
              "      <td>97.880</td>\n",
              "      <td>0.073548</td>\n",
              "    </tr>\n",
              "  </tbody>\n",
              "</table>\n",
              "</div>\n",
              "    <div class=\"colab-df-buttons\">\n",
              "\n",
              "  <div class=\"colab-df-container\">\n",
              "    <button class=\"colab-df-convert\" onclick=\"convertToInteractive('df-ab911d76-62e1-4951-b935-f544b690e7ba')\"\n",
              "            title=\"Convert this dataframe to an interactive table.\"\n",
              "            style=\"display:none;\">\n",
              "\n",
              "  <svg xmlns=\"http://www.w3.org/2000/svg\" height=\"24px\" viewBox=\"0 -960 960 960\">\n",
              "    <path d=\"M120-120v-720h720v720H120Zm60-500h600v-160H180v160Zm220 220h160v-160H400v160Zm0 220h160v-160H400v160ZM180-400h160v-160H180v160Zm440 0h160v-160H620v160ZM180-180h160v-160H180v160Zm440 0h160v-160H620v160Z\"/>\n",
              "  </svg>\n",
              "    </button>\n",
              "\n",
              "  <style>\n",
              "    .colab-df-container {\n",
              "      display:flex;\n",
              "      gap: 12px;\n",
              "    }\n",
              "\n",
              "    .colab-df-convert {\n",
              "      background-color: #E8F0FE;\n",
              "      border: none;\n",
              "      border-radius: 50%;\n",
              "      cursor: pointer;\n",
              "      display: none;\n",
              "      fill: #1967D2;\n",
              "      height: 32px;\n",
              "      padding: 0 0 0 0;\n",
              "      width: 32px;\n",
              "    }\n",
              "\n",
              "    .colab-df-convert:hover {\n",
              "      background-color: #E2EBFA;\n",
              "      box-shadow: 0px 1px 2px rgba(60, 64, 67, 0.3), 0px 1px 3px 1px rgba(60, 64, 67, 0.15);\n",
              "      fill: #174EA6;\n",
              "    }\n",
              "\n",
              "    .colab-df-buttons div {\n",
              "      margin-bottom: 4px;\n",
              "    }\n",
              "\n",
              "    [theme=dark] .colab-df-convert {\n",
              "      background-color: #3B4455;\n",
              "      fill: #D2E3FC;\n",
              "    }\n",
              "\n",
              "    [theme=dark] .colab-df-convert:hover {\n",
              "      background-color: #434B5C;\n",
              "      box-shadow: 0px 1px 3px 1px rgba(0, 0, 0, 0.15);\n",
              "      filter: drop-shadow(0px 1px 2px rgba(0, 0, 0, 0.3));\n",
              "      fill: #FFFFFF;\n",
              "    }\n",
              "  </style>\n",
              "\n",
              "    <script>\n",
              "      const buttonEl =\n",
              "        document.querySelector('#df-ab911d76-62e1-4951-b935-f544b690e7ba button.colab-df-convert');\n",
              "      buttonEl.style.display =\n",
              "        google.colab.kernel.accessAllowed ? 'block' : 'none';\n",
              "\n",
              "      async function convertToInteractive(key) {\n",
              "        const element = document.querySelector('#df-ab911d76-62e1-4951-b935-f544b690e7ba');\n",
              "        const dataTable =\n",
              "          await google.colab.kernel.invokeFunction('convertToInteractive',\n",
              "                                                    [key], {});\n",
              "        if (!dataTable) return;\n",
              "\n",
              "        const docLinkHtml = 'Like what you see? Visit the ' +\n",
              "          '<a target=\"_blank\" href=https://colab.research.google.com/notebooks/data_table.ipynb>data table notebook</a>'\n",
              "          + ' to learn more about interactive tables.';\n",
              "        element.innerHTML = '';\n",
              "        dataTable['output_type'] = 'display_data';\n",
              "        await google.colab.output.renderOutput(dataTable, element);\n",
              "        const docLink = document.createElement('div');\n",
              "        docLink.innerHTML = docLinkHtml;\n",
              "        element.appendChild(docLink);\n",
              "      }\n",
              "    </script>\n",
              "  </div>\n",
              "\n",
              "\n",
              "<div id=\"df-ced77d6a-5566-4063-9d9e-d8572cf78623\">\n",
              "  <button class=\"colab-df-quickchart\" onclick=\"quickchart('df-ced77d6a-5566-4063-9d9e-d8572cf78623')\"\n",
              "            title=\"Suggest charts\"\n",
              "            style=\"display:none;\">\n",
              "\n",
              "<svg xmlns=\"http://www.w3.org/2000/svg\" height=\"24px\"viewBox=\"0 0 24 24\"\n",
              "     width=\"24px\">\n",
              "    <g>\n",
              "        <path d=\"M19 3H5c-1.1 0-2 .9-2 2v14c0 1.1.9 2 2 2h14c1.1 0 2-.9 2-2V5c0-1.1-.9-2-2-2zM9 17H7v-7h2v7zm4 0h-2V7h2v10zm4 0h-2v-4h2v4z\"/>\n",
              "    </g>\n",
              "</svg>\n",
              "  </button>\n",
              "\n",
              "<style>\n",
              "  .colab-df-quickchart {\n",
              "      --bg-color: #E8F0FE;\n",
              "      --fill-color: #1967D2;\n",
              "      --hover-bg-color: #E2EBFA;\n",
              "      --hover-fill-color: #174EA6;\n",
              "      --disabled-fill-color: #AAA;\n",
              "      --disabled-bg-color: #DDD;\n",
              "  }\n",
              "\n",
              "  [theme=dark] .colab-df-quickchart {\n",
              "      --bg-color: #3B4455;\n",
              "      --fill-color: #D2E3FC;\n",
              "      --hover-bg-color: #434B5C;\n",
              "      --hover-fill-color: #FFFFFF;\n",
              "      --disabled-bg-color: #3B4455;\n",
              "      --disabled-fill-color: #666;\n",
              "  }\n",
              "\n",
              "  .colab-df-quickchart {\n",
              "    background-color: var(--bg-color);\n",
              "    border: none;\n",
              "    border-radius: 50%;\n",
              "    cursor: pointer;\n",
              "    display: none;\n",
              "    fill: var(--fill-color);\n",
              "    height: 32px;\n",
              "    padding: 0;\n",
              "    width: 32px;\n",
              "  }\n",
              "\n",
              "  .colab-df-quickchart:hover {\n",
              "    background-color: var(--hover-bg-color);\n",
              "    box-shadow: 0 1px 2px rgba(60, 64, 67, 0.3), 0 1px 3px 1px rgba(60, 64, 67, 0.15);\n",
              "    fill: var(--button-hover-fill-color);\n",
              "  }\n",
              "\n",
              "  .colab-df-quickchart-complete:disabled,\n",
              "  .colab-df-quickchart-complete:disabled:hover {\n",
              "    background-color: var(--disabled-bg-color);\n",
              "    fill: var(--disabled-fill-color);\n",
              "    box-shadow: none;\n",
              "  }\n",
              "\n",
              "  .colab-df-spinner {\n",
              "    border: 2px solid var(--fill-color);\n",
              "    border-color: transparent;\n",
              "    border-bottom-color: var(--fill-color);\n",
              "    animation:\n",
              "      spin 1s steps(1) infinite;\n",
              "  }\n",
              "\n",
              "  @keyframes spin {\n",
              "    0% {\n",
              "      border-color: transparent;\n",
              "      border-bottom-color: var(--fill-color);\n",
              "      border-left-color: var(--fill-color);\n",
              "    }\n",
              "    20% {\n",
              "      border-color: transparent;\n",
              "      border-left-color: var(--fill-color);\n",
              "      border-top-color: var(--fill-color);\n",
              "    }\n",
              "    30% {\n",
              "      border-color: transparent;\n",
              "      border-left-color: var(--fill-color);\n",
              "      border-top-color: var(--fill-color);\n",
              "      border-right-color: var(--fill-color);\n",
              "    }\n",
              "    40% {\n",
              "      border-color: transparent;\n",
              "      border-right-color: var(--fill-color);\n",
              "      border-top-color: var(--fill-color);\n",
              "    }\n",
              "    60% {\n",
              "      border-color: transparent;\n",
              "      border-right-color: var(--fill-color);\n",
              "    }\n",
              "    80% {\n",
              "      border-color: transparent;\n",
              "      border-right-color: var(--fill-color);\n",
              "      border-bottom-color: var(--fill-color);\n",
              "    }\n",
              "    90% {\n",
              "      border-color: transparent;\n",
              "      border-bottom-color: var(--fill-color);\n",
              "    }\n",
              "  }\n",
              "</style>\n",
              "\n",
              "  <script>\n",
              "    async function quickchart(key) {\n",
              "      const quickchartButtonEl =\n",
              "        document.querySelector('#' + key + ' button');\n",
              "      quickchartButtonEl.disabled = true;  // To prevent multiple clicks.\n",
              "      quickchartButtonEl.classList.add('colab-df-spinner');\n",
              "      try {\n",
              "        const charts = await google.colab.kernel.invokeFunction(\n",
              "            'suggestCharts', [key], {});\n",
              "      } catch (error) {\n",
              "        console.error('Error during call to suggestCharts:', error);\n",
              "      }\n",
              "      quickchartButtonEl.classList.remove('colab-df-spinner');\n",
              "      quickchartButtonEl.classList.add('colab-df-quickchart-complete');\n",
              "    }\n",
              "    (() => {\n",
              "      let quickchartButtonEl =\n",
              "        document.querySelector('#df-ced77d6a-5566-4063-9d9e-d8572cf78623 button');\n",
              "      quickchartButtonEl.style.display =\n",
              "        google.colab.kernel.accessAllowed ? 'block' : 'none';\n",
              "    })();\n",
              "  </script>\n",
              "</div>\n",
              "    </div>\n",
              "  </div>\n"
            ]
          },
          "metadata": {},
          "execution_count": 3
        }
      ],
      "source": [
        "# Read in track metadata with genre labels\n",
        "##tracks = pd.read_csv(\"/content/drive/MyDrive/fma-rock-vs-hiphop.csv\")\n",
        "tracks = pd.read_csv(\"/content/drive/MyDrive/6156-Applied Machine Learning/Group project DSBA 6156/fma-rock-vs-hiphop.csv\")\n",
        "# Read in track metrics with the features\n",
        "##echonest_metrics = pd.read_json(\"/content/drive/MyDrive/echonest-metrics.csv\", precise_float=True)\n",
        "echonest_metrics = pd.read_json(\"/content/drive/MyDrive/6156-Applied Machine Learning/Group project DSBA 6156/echonest-metrics.csv\", precise_float=True)\n",
        "# Merge the relevant columns of tracks and echonest_metrics\n",
        "echo_tracks = pd.merge(left= tracks[['track_id', 'genre_top']], right=echonest_metrics, on='track_id')\n",
        "\n",
        "\n",
        "# Inspect the resultant dataframe\n",
        "echo_tracks.head()"
      ]
    },
    {
      "cell_type": "code",
      "source": [
        "echo_tracks.isnull().sum()"
      ],
      "metadata": {
        "colab": {
          "base_uri": "https://localhost:8080/"
        },
        "id": "r226ddfG23Gb",
        "outputId": "5f68dc6a-f1a8-4a54-fcf5-890d87a1c60a"
      },
      "execution_count": null,
      "outputs": [
        {
          "output_type": "execute_result",
          "data": {
            "text/plain": [
              "track_id            0\n",
              "genre_top           0\n",
              "acousticness        0\n",
              "danceability        0\n",
              "energy              0\n",
              "instrumentalness    0\n",
              "liveness            0\n",
              "speechiness         0\n",
              "tempo               0\n",
              "valence             0\n",
              "dtype: int64"
            ]
          },
          "metadata": {},
          "execution_count": 4
        }
      ]
    },
    {
      "cell_type": "code",
      "source": [
        "echo_tracks.info()"
      ],
      "metadata": {
        "colab": {
          "base_uri": "https://localhost:8080/"
        },
        "id": "9TIvH8xR4j7Z",
        "outputId": "1ae5d946-f0de-47bd-89e3-5a99fbb25545"
      },
      "execution_count": null,
      "outputs": [
        {
          "output_type": "stream",
          "name": "stdout",
          "text": [
            "<class 'pandas.core.frame.DataFrame'>\n",
            "Int64Index: 4802 entries, 0 to 4801\n",
            "Data columns (total 10 columns):\n",
            " #   Column            Non-Null Count  Dtype  \n",
            "---  ------            --------------  -----  \n",
            " 0   track_id          4802 non-null   int64  \n",
            " 1   genre_top         4802 non-null   object \n",
            " 2   acousticness      4802 non-null   float64\n",
            " 3   danceability      4802 non-null   float64\n",
            " 4   energy            4802 non-null   float64\n",
            " 5   instrumentalness  4802 non-null   float64\n",
            " 6   liveness          4802 non-null   float64\n",
            " 7   speechiness       4802 non-null   float64\n",
            " 8   tempo             4802 non-null   float64\n",
            " 9   valence           4802 non-null   float64\n",
            "dtypes: float64(8), int64(1), object(1)\n",
            "memory usage: 412.7+ KB\n"
          ]
        }
      ]
    },
    {
      "cell_type": "markdown",
      "source": [
        "# **2. Pairwise relationships between continuous variables**"
      ],
      "metadata": {
        "id": "scHVmAZmhxcN"
      }
    },
    {
      "cell_type": "code",
      "source": [
        "# Create a correlation matrix\n",
        "corr_metrics = echo_tracks.corr()\n",
        "corr_metrics.style.background_gradient()"
      ],
      "metadata": {
        "id": "Py-2orhWh43H",
        "colab": {
          "base_uri": "https://localhost:8080/",
          "height": 386
        },
        "outputId": "ccc45ced-e1dc-4de1-dc8b-4b9288f78492"
      },
      "execution_count": null,
      "outputs": [
        {
          "output_type": "stream",
          "name": "stderr",
          "text": [
            "<ipython-input-6-48e94c368ccc>:2: FutureWarning: The default value of numeric_only in DataFrame.corr is deprecated. In a future version, it will default to False. Select only valid columns or specify the value of numeric_only to silence this warning.\n",
            "  corr_metrics = echo_tracks.corr()\n"
          ]
        },
        {
          "output_type": "execute_result",
          "data": {
            "text/plain": [
              "<pandas.io.formats.style.Styler at 0x7ce1661fd150>"
            ],
            "text/html": [
              "<style type=\"text/css\">\n",
              "#T_d79bd_row0_col0, #T_d79bd_row1_col1, #T_d79bd_row2_col2, #T_d79bd_row3_col3, #T_d79bd_row4_col4, #T_d79bd_row5_col5, #T_d79bd_row6_col6, #T_d79bd_row7_col7, #T_d79bd_row8_col8 {\n",
              "  background-color: #023858;\n",
              "  color: #f1f1f1;\n",
              "}\n",
              "#T_d79bd_row0_col1, #T_d79bd_row1_col0, #T_d79bd_row1_col3, #T_d79bd_row2_col5, #T_d79bd_row2_col7, #T_d79bd_row4_col2, #T_d79bd_row4_col6, #T_d79bd_row4_col8, #T_d79bd_row6_col4 {\n",
              "  background-color: #fff7fb;\n",
              "  color: #000000;\n",
              "}\n",
              "#T_d79bd_row0_col2 {\n",
              "  background-color: #d2d2e7;\n",
              "  color: #000000;\n",
              "}\n",
              "#T_d79bd_row0_col3 {\n",
              "  background-color: #b5c4df;\n",
              "  color: #000000;\n",
              "}\n",
              "#T_d79bd_row0_col4 {\n",
              "  background-color: #f5eef6;\n",
              "  color: #000000;\n",
              "}\n",
              "#T_d79bd_row0_col5 {\n",
              "  background-color: #e9e5f1;\n",
              "  color: #000000;\n",
              "}\n",
              "#T_d79bd_row0_col6, #T_d79bd_row8_col3 {\n",
              "  background-color: #d1d2e6;\n",
              "  color: #000000;\n",
              "}\n",
              "#T_d79bd_row0_col7, #T_d79bd_row1_col7 {\n",
              "  background-color: #e1dfed;\n",
              "  color: #000000;\n",
              "}\n",
              "#T_d79bd_row0_col8, #T_d79bd_row3_col6 {\n",
              "  background-color: #dedcec;\n",
              "  color: #000000;\n",
              "}\n",
              "#T_d79bd_row1_col2 {\n",
              "  background-color: #e0dded;\n",
              "  color: #000000;\n",
              "}\n",
              "#T_d79bd_row1_col4, #T_d79bd_row4_col1 {\n",
              "  background-color: #97b7d7;\n",
              "  color: #000000;\n",
              "}\n",
              "#T_d79bd_row1_col5, #T_d79bd_row2_col4 {\n",
              "  background-color: #f3edf5;\n",
              "  color: #000000;\n",
              "}\n",
              "#T_d79bd_row1_col6, #T_d79bd_row6_col1 {\n",
              "  background-color: #b8c6e0;\n",
              "  color: #000000;\n",
              "}\n",
              "#T_d79bd_row1_col8 {\n",
              "  background-color: #e2dfee;\n",
              "  color: #000000;\n",
              "}\n",
              "#T_d79bd_row2_col0, #T_d79bd_row5_col0, #T_d79bd_row5_col3 {\n",
              "  background-color: #bdc8e1;\n",
              "  color: #000000;\n",
              "}\n",
              "#T_d79bd_row2_col1, #T_d79bd_row6_col0, #T_d79bd_row7_col0, #T_d79bd_row7_col1 {\n",
              "  background-color: #d0d1e6;\n",
              "  color: #000000;\n",
              "}\n",
              "#T_d79bd_row2_col3 {\n",
              "  background-color: #fbf3f9;\n",
              "  color: #000000;\n",
              "}\n",
              "#T_d79bd_row2_col6 {\n",
              "  background-color: #80aed2;\n",
              "  color: #f1f1f1;\n",
              "}\n",
              "#T_d79bd_row2_col8 {\n",
              "  background-color: #529bc7;\n",
              "  color: #f1f1f1;\n",
              "}\n",
              "#T_d79bd_row3_col0, #T_d79bd_row7_col3 {\n",
              "  background-color: #a7bddb;\n",
              "  color: #000000;\n",
              "}\n",
              "#T_d79bd_row3_col1 {\n",
              "  background-color: #f5eff6;\n",
              "  color: #000000;\n",
              "}\n",
              "#T_d79bd_row3_col2, #T_d79bd_row7_col2 {\n",
              "  background-color: #fef6fa;\n",
              "  color: #000000;\n",
              "}\n",
              "#T_d79bd_row3_col4 {\n",
              "  background-color: #c4cbe3;\n",
              "  color: #000000;\n",
              "}\n",
              "#T_d79bd_row3_col5, #T_d79bd_row5_col7 {\n",
              "  background-color: #dcdaeb;\n",
              "  color: #000000;\n",
              "}\n",
              "#T_d79bd_row3_col7 {\n",
              "  background-color: #adc1dd;\n",
              "  color: #000000;\n",
              "}\n",
              "#T_d79bd_row3_col8, #T_d79bd_row4_col7 {\n",
              "  background-color: #d9d8ea;\n",
              "  color: #000000;\n",
              "}\n",
              "#T_d79bd_row4_col0 {\n",
              "  background-color: #f4eef6;\n",
              "  color: #000000;\n",
              "}\n",
              "#T_d79bd_row4_col3 {\n",
              "  background-color: #d2d3e7;\n",
              "  color: #000000;\n",
              "}\n",
              "#T_d79bd_row4_col5 {\n",
              "  background-color: #fdf5fa;\n",
              "  color: #000000;\n",
              "}\n",
              "#T_d79bd_row5_col1 {\n",
              "  background-color: #ced0e6;\n",
              "  color: #000000;\n",
              "}\n",
              "#T_d79bd_row5_col2 {\n",
              "  background-color: #ede8f3;\n",
              "  color: #000000;\n",
              "}\n",
              "#T_d79bd_row5_col4, #T_d79bd_row6_col7 {\n",
              "  background-color: #dbdaeb;\n",
              "  color: #000000;\n",
              "}\n",
              "#T_d79bd_row5_col6 {\n",
              "  background-color: #c0c9e2;\n",
              "  color: #000000;\n",
              "}\n",
              "#T_d79bd_row5_col8 {\n",
              "  background-color: #e8e4f0;\n",
              "  color: #000000;\n",
              "}\n",
              "#T_d79bd_row6_col2 {\n",
              "  background-color: #93b5d6;\n",
              "  color: #000000;\n",
              "}\n",
              "#T_d79bd_row6_col3, #T_d79bd_row6_col5 {\n",
              "  background-color: #eae6f1;\n",
              "  color: #000000;\n",
              "}\n",
              "#T_d79bd_row6_col8 {\n",
              "  background-color: #bfc9e1;\n",
              "  color: #000000;\n",
              "}\n",
              "#T_d79bd_row7_col4 {\n",
              "  background-color: #c5cce3;\n",
              "  color: #000000;\n",
              "}\n",
              "#T_d79bd_row7_col5 {\n",
              "  background-color: #f0eaf4;\n",
              "  color: #000000;\n",
              "}\n",
              "#T_d79bd_row7_col6 {\n",
              "  background-color: #c8cde4;\n",
              "  color: #000000;\n",
              "}\n",
              "#T_d79bd_row7_col8 {\n",
              "  background-color: #d6d6e9;\n",
              "  color: #000000;\n",
              "}\n",
              "#T_d79bd_row8_col0 {\n",
              "  background-color: #c6cce3;\n",
              "  color: #000000;\n",
              "}\n",
              "#T_d79bd_row8_col1 {\n",
              "  background-color: #cdd0e5;\n",
              "  color: #000000;\n",
              "}\n",
              "#T_d79bd_row8_col2 {\n",
              "  background-color: #4c99c5;\n",
              "  color: #f1f1f1;\n",
              "}\n",
              "#T_d79bd_row8_col4 {\n",
              "  background-color: #efe9f3;\n",
              "  color: #000000;\n",
              "}\n",
              "#T_d79bd_row8_col5 {\n",
              "  background-color: #f7f0f7;\n",
              "  color: #000000;\n",
              "}\n",
              "#T_d79bd_row8_col6 {\n",
              "  background-color: #a5bddb;\n",
              "  color: #000000;\n",
              "}\n",
              "#T_d79bd_row8_col7 {\n",
              "  background-color: #d3d4e7;\n",
              "  color: #000000;\n",
              "}\n",
              "</style>\n",
              "<table id=\"T_d79bd\" class=\"dataframe\">\n",
              "  <thead>\n",
              "    <tr>\n",
              "      <th class=\"blank level0\" >&nbsp;</th>\n",
              "      <th id=\"T_d79bd_level0_col0\" class=\"col_heading level0 col0\" >track_id</th>\n",
              "      <th id=\"T_d79bd_level0_col1\" class=\"col_heading level0 col1\" >acousticness</th>\n",
              "      <th id=\"T_d79bd_level0_col2\" class=\"col_heading level0 col2\" >danceability</th>\n",
              "      <th id=\"T_d79bd_level0_col3\" class=\"col_heading level0 col3\" >energy</th>\n",
              "      <th id=\"T_d79bd_level0_col4\" class=\"col_heading level0 col4\" >instrumentalness</th>\n",
              "      <th id=\"T_d79bd_level0_col5\" class=\"col_heading level0 col5\" >liveness</th>\n",
              "      <th id=\"T_d79bd_level0_col6\" class=\"col_heading level0 col6\" >speechiness</th>\n",
              "      <th id=\"T_d79bd_level0_col7\" class=\"col_heading level0 col7\" >tempo</th>\n",
              "      <th id=\"T_d79bd_level0_col8\" class=\"col_heading level0 col8\" >valence</th>\n",
              "    </tr>\n",
              "  </thead>\n",
              "  <tbody>\n",
              "    <tr>\n",
              "      <th id=\"T_d79bd_level0_row0\" class=\"row_heading level0 row0\" >track_id</th>\n",
              "      <td id=\"T_d79bd_row0_col0\" class=\"data row0 col0\" >1.000000</td>\n",
              "      <td id=\"T_d79bd_row0_col1\" class=\"data row0 col1\" >-0.372282</td>\n",
              "      <td id=\"T_d79bd_row0_col2\" class=\"data row0 col2\" >0.049454</td>\n",
              "      <td id=\"T_d79bd_row0_col3\" class=\"data row0 col3\" >0.140703</td>\n",
              "      <td id=\"T_d79bd_row0_col4\" class=\"data row0 col4\" >-0.275623</td>\n",
              "      <td id=\"T_d79bd_row0_col5\" class=\"data row0 col5\" >0.048231</td>\n",
              "      <td id=\"T_d79bd_row0_col6\" class=\"data row0 col6\" >-0.026995</td>\n",
              "      <td id=\"T_d79bd_row0_col7\" class=\"data row0 col7\" >-0.025392</td>\n",
              "      <td id=\"T_d79bd_row0_col8\" class=\"data row0 col8\" >0.010070</td>\n",
              "    </tr>\n",
              "    <tr>\n",
              "      <th id=\"T_d79bd_level0_row1\" class=\"row_heading level0 row1\" >acousticness</th>\n",
              "      <td id=\"T_d79bd_row1_col0\" class=\"data row1 col0\" >-0.372282</td>\n",
              "      <td id=\"T_d79bd_row1_col1\" class=\"data row1 col1\" >1.000000</td>\n",
              "      <td id=\"T_d79bd_row1_col2\" class=\"data row1 col2\" >-0.028954</td>\n",
              "      <td id=\"T_d79bd_row1_col3\" class=\"data row1 col3\" >-0.281619</td>\n",
              "      <td id=\"T_d79bd_row1_col4\" class=\"data row1 col4\" >0.194780</td>\n",
              "      <td id=\"T_d79bd_row1_col5\" class=\"data row1 col5\" >-0.019991</td>\n",
              "      <td id=\"T_d79bd_row1_col6\" class=\"data row1 col6\" >0.072204</td>\n",
              "      <td id=\"T_d79bd_row1_col7\" class=\"data row1 col7\" >-0.026310</td>\n",
              "      <td id=\"T_d79bd_row1_col8\" class=\"data row1 col8\" >-0.013841</td>\n",
              "    </tr>\n",
              "    <tr>\n",
              "      <th id=\"T_d79bd_level0_row2\" class=\"row_heading level0 row2\" >danceability</th>\n",
              "      <td id=\"T_d79bd_row2_col0\" class=\"data row2 col0\" >0.049454</td>\n",
              "      <td id=\"T_d79bd_row2_col1\" class=\"data row2 col1\" >-0.028954</td>\n",
              "      <td id=\"T_d79bd_row2_col2\" class=\"data row2 col2\" >1.000000</td>\n",
              "      <td id=\"T_d79bd_row2_col3\" class=\"data row2 col3\" >-0.242032</td>\n",
              "      <td id=\"T_d79bd_row2_col4\" class=\"data row2 col4\" >-0.255217</td>\n",
              "      <td id=\"T_d79bd_row2_col5\" class=\"data row2 col5\" >-0.106584</td>\n",
              "      <td id=\"T_d79bd_row2_col6\" class=\"data row2 col6\" >0.276206</td>\n",
              "      <td id=\"T_d79bd_row2_col7\" class=\"data row2 col7\" >-0.242089</td>\n",
              "      <td id=\"T_d79bd_row2_col8\" class=\"data row2 col8\" >0.473165</td>\n",
              "    </tr>\n",
              "    <tr>\n",
              "      <th id=\"T_d79bd_level0_row3\" class=\"row_heading level0 row3\" >energy</th>\n",
              "      <td id=\"T_d79bd_row3_col0\" class=\"data row3 col0\" >0.140703</td>\n",
              "      <td id=\"T_d79bd_row3_col1\" class=\"data row3 col1\" >-0.281619</td>\n",
              "      <td id=\"T_d79bd_row3_col2\" class=\"data row3 col2\" >-0.242032</td>\n",
              "      <td id=\"T_d79bd_row3_col3\" class=\"data row3 col3\" >1.000000</td>\n",
              "      <td id=\"T_d79bd_row3_col4\" class=\"data row3 col4\" >0.028238</td>\n",
              "      <td id=\"T_d79bd_row3_col5\" class=\"data row3 col5\" >0.113331</td>\n",
              "      <td id=\"T_d79bd_row3_col6\" class=\"data row3 col6\" >-0.109983</td>\n",
              "      <td id=\"T_d79bd_row3_col7\" class=\"data row3 col7\" >0.195227</td>\n",
              "      <td id=\"T_d79bd_row3_col8\" class=\"data row3 col8\" >0.038603</td>\n",
              "    </tr>\n",
              "    <tr>\n",
              "      <th id=\"T_d79bd_level0_row4\" class=\"row_heading level0 row4\" >instrumentalness</th>\n",
              "      <td id=\"T_d79bd_row4_col0\" class=\"data row4 col0\" >-0.275623</td>\n",
              "      <td id=\"T_d79bd_row4_col1\" class=\"data row4 col1\" >0.194780</td>\n",
              "      <td id=\"T_d79bd_row4_col2\" class=\"data row4 col2\" >-0.255217</td>\n",
              "      <td id=\"T_d79bd_row4_col3\" class=\"data row4 col3\" >0.028238</td>\n",
              "      <td id=\"T_d79bd_row4_col4\" class=\"data row4 col4\" >1.000000</td>\n",
              "      <td id=\"T_d79bd_row4_col5\" class=\"data row4 col5\" >-0.091022</td>\n",
              "      <td id=\"T_d79bd_row4_col6\" class=\"data row4 col6\" >-0.366762</td>\n",
              "      <td id=\"T_d79bd_row4_col7\" class=\"data row4 col7\" >0.022215</td>\n",
              "      <td id=\"T_d79bd_row4_col8\" class=\"data row4 col8\" >-0.219967</td>\n",
              "    </tr>\n",
              "    <tr>\n",
              "      <th id=\"T_d79bd_level0_row5\" class=\"row_heading level0 row5\" >liveness</th>\n",
              "      <td id=\"T_d79bd_row5_col0\" class=\"data row5 col0\" >0.048231</td>\n",
              "      <td id=\"T_d79bd_row5_col1\" class=\"data row5 col1\" >-0.019991</td>\n",
              "      <td id=\"T_d79bd_row5_col2\" class=\"data row5 col2\" >-0.106584</td>\n",
              "      <td id=\"T_d79bd_row5_col3\" class=\"data row5 col3\" >0.113331</td>\n",
              "      <td id=\"T_d79bd_row5_col4\" class=\"data row5 col4\" >-0.091022</td>\n",
              "      <td id=\"T_d79bd_row5_col5\" class=\"data row5 col5\" >1.000000</td>\n",
              "      <td id=\"T_d79bd_row5_col6\" class=\"data row5 col6\" >0.041173</td>\n",
              "      <td id=\"T_d79bd_row5_col7\" class=\"data row5 col7\" >0.002732</td>\n",
              "      <td id=\"T_d79bd_row5_col8\" class=\"data row5 col8\" >-0.045093</td>\n",
              "    </tr>\n",
              "    <tr>\n",
              "      <th id=\"T_d79bd_level0_row6\" class=\"row_heading level0 row6\" >speechiness</th>\n",
              "      <td id=\"T_d79bd_row6_col0\" class=\"data row6 col0\" >-0.026995</td>\n",
              "      <td id=\"T_d79bd_row6_col1\" class=\"data row6 col1\" >0.072204</td>\n",
              "      <td id=\"T_d79bd_row6_col2\" class=\"data row6 col2\" >0.276206</td>\n",
              "      <td id=\"T_d79bd_row6_col3\" class=\"data row6 col3\" >-0.109983</td>\n",
              "      <td id=\"T_d79bd_row6_col4\" class=\"data row6 col4\" >-0.366762</td>\n",
              "      <td id=\"T_d79bd_row6_col5\" class=\"data row6 col5\" >0.041173</td>\n",
              "      <td id=\"T_d79bd_row6_col6\" class=\"data row6 col6\" >1.000000</td>\n",
              "      <td id=\"T_d79bd_row6_col7\" class=\"data row6 col7\" >0.008241</td>\n",
              "      <td id=\"T_d79bd_row6_col8\" class=\"data row6 col8\" >0.149894</td>\n",
              "    </tr>\n",
              "    <tr>\n",
              "      <th id=\"T_d79bd_level0_row7\" class=\"row_heading level0 row7\" >tempo</th>\n",
              "      <td id=\"T_d79bd_row7_col0\" class=\"data row7 col0\" >-0.025392</td>\n",
              "      <td id=\"T_d79bd_row7_col1\" class=\"data row7 col1\" >-0.026310</td>\n",
              "      <td id=\"T_d79bd_row7_col2\" class=\"data row7 col2\" >-0.242089</td>\n",
              "      <td id=\"T_d79bd_row7_col3\" class=\"data row7 col3\" >0.195227</td>\n",
              "      <td id=\"T_d79bd_row7_col4\" class=\"data row7 col4\" >0.022215</td>\n",
              "      <td id=\"T_d79bd_row7_col5\" class=\"data row7 col5\" >0.002732</td>\n",
              "      <td id=\"T_d79bd_row7_col6\" class=\"data row7 col6\" >0.008241</td>\n",
              "      <td id=\"T_d79bd_row7_col7\" class=\"data row7 col7\" >1.000000</td>\n",
              "      <td id=\"T_d79bd_row7_col8\" class=\"data row7 col8\" >0.052221</td>\n",
              "    </tr>\n",
              "    <tr>\n",
              "      <th id=\"T_d79bd_level0_row8\" class=\"row_heading level0 row8\" >valence</th>\n",
              "      <td id=\"T_d79bd_row8_col0\" class=\"data row8 col0\" >0.010070</td>\n",
              "      <td id=\"T_d79bd_row8_col1\" class=\"data row8 col1\" >-0.013841</td>\n",
              "      <td id=\"T_d79bd_row8_col2\" class=\"data row8 col2\" >0.473165</td>\n",
              "      <td id=\"T_d79bd_row8_col3\" class=\"data row8 col3\" >0.038603</td>\n",
              "      <td id=\"T_d79bd_row8_col4\" class=\"data row8 col4\" >-0.219967</td>\n",
              "      <td id=\"T_d79bd_row8_col5\" class=\"data row8 col5\" >-0.045093</td>\n",
              "      <td id=\"T_d79bd_row8_col6\" class=\"data row8 col6\" >0.149894</td>\n",
              "      <td id=\"T_d79bd_row8_col7\" class=\"data row8 col7\" >0.052221</td>\n",
              "      <td id=\"T_d79bd_row8_col8\" class=\"data row8 col8\" >1.000000</td>\n",
              "    </tr>\n",
              "  </tbody>\n",
              "</table>\n"
            ]
          },
          "metadata": {},
          "execution_count": 6
        }
      ]
    },
    {
      "cell_type": "markdown",
      "source": [
        "# **3. Splitting our data**"
      ],
      "metadata": {
        "id": "OEnGMhPAh74m"
      }
    },
    {
      "cell_type": "code",
      "source": [
        "# Create features\n",
        "features = echo_tracks.drop(['genre_top', 'track_id'], axis=1)\n",
        "\n",
        "# Create labels\n",
        "labels = echo_tracks[['genre_top']]\n",
        "\n",
        "features.info()\n",
        "labels.info()\n",
        "\n",
        "# Split our data\n",
        "train_features, test_features, train_labels, test_labels = train_test_split(features, labels, random_state=10)"
      ],
      "metadata": {
        "id": "3h2zsNSyiIU2",
        "colab": {
          "base_uri": "https://localhost:8080/"
        },
        "outputId": "81eb1791-7d78-4aa9-a774-6ed6c848730d"
      },
      "execution_count": null,
      "outputs": [
        {
          "output_type": "stream",
          "name": "stdout",
          "text": [
            "<class 'pandas.core.frame.DataFrame'>\n",
            "Int64Index: 4802 entries, 0 to 4801\n",
            "Data columns (total 8 columns):\n",
            " #   Column            Non-Null Count  Dtype  \n",
            "---  ------            --------------  -----  \n",
            " 0   acousticness      4802 non-null   float64\n",
            " 1   danceability      4802 non-null   float64\n",
            " 2   energy            4802 non-null   float64\n",
            " 3   instrumentalness  4802 non-null   float64\n",
            " 4   liveness          4802 non-null   float64\n",
            " 5   speechiness       4802 non-null   float64\n",
            " 6   tempo             4802 non-null   float64\n",
            " 7   valence           4802 non-null   float64\n",
            "dtypes: float64(8)\n",
            "memory usage: 337.6 KB\n",
            "<class 'pandas.core.frame.DataFrame'>\n",
            "Int64Index: 4802 entries, 0 to 4801\n",
            "Data columns (total 1 columns):\n",
            " #   Column     Non-Null Count  Dtype \n",
            "---  ------     --------------  ----- \n",
            " 0   genre_top  4802 non-null   object\n",
            "dtypes: object(1)\n",
            "memory usage: 75.0+ KB\n"
          ]
        }
      ]
    },
    {
      "cell_type": "code",
      "source": [
        "labels.value_counts()"
      ],
      "metadata": {
        "colab": {
          "base_uri": "https://localhost:8080/"
        },
        "id": "x1QQ_FpKE31Y",
        "outputId": "fe4a701e-e31b-43da-f8de-99b401bbff07"
      },
      "execution_count": null,
      "outputs": [
        {
          "output_type": "execute_result",
          "data": {
            "text/plain": [
              "genre_top\n",
              "Rock         3892\n",
              "Hip-Hop       910\n",
              "dtype: int64"
            ]
          },
          "metadata": {},
          "execution_count": 8
        }
      ]
    },
    {
      "cell_type": "markdown",
      "source": [
        "#**4. Normalizing the feature data**"
      ],
      "metadata": {
        "id": "lE0MbvJ4iMl-"
      }
    },
    {
      "cell_type": "code",
      "source": [
        "# Scale the features and set the values to a new variable\n",
        "scaler = StandardScaler()\n",
        "\n",
        "# Scale train_features and test_features\n",
        "scaled_train_features = scaler.fit_transform(train_features)\n",
        "scaled_test_features = scaler.transform(test_features)"
      ],
      "metadata": {
        "id": "sWwU5B5ljruA"
      },
      "execution_count": null,
      "outputs": []
    },
    {
      "cell_type": "markdown",
      "source": [
        "#**5. Principal Component Analysis on our scaled data.**"
      ],
      "metadata": {
        "id": "QIU6c1TXju8r"
      }
    },
    {
      "cell_type": "code",
      "source": [
        "%matplotlib inline\n",
        "# Get our explained variance ratios from PCA using all features\n",
        "pca = PCA()\n",
        "pca.fit(scaled_train_features)\n",
        "\n",
        "exp_variance = pca.explained_variance_ratio_\n",
        "\n",
        "# plot the explained variance using a barplot\n",
        "fig, ax = plt.subplots()\n",
        "bars = ax.bar(range(1, len(exp_variance) + 1), exp_variance)\n",
        "\n",
        "# Add annotations for each bar\n",
        "for bar in bars:\n",
        "    yval = bar.get_height()\n",
        "    plt.text(bar.get_x() + bar.get_width()/2, yval, round(yval, 4), ha='center', va='bottom')\n",
        "\n",
        "ax.set_xlabel('Principal Component #')\n",
        "ax.set_ylabel('Explained Variance Ratio')\n",
        "ax.set_title('Explained Variance for Each Principal Component')\n",
        "plt.show()\n"
      ],
      "metadata": {
        "colab": {
          "base_uri": "https://localhost:8080/",
          "height": 472
        },
        "id": "-6XdN5cODLmC",
        "outputId": "819bad00-bd8a-4863-bea1-21d11bd62c13"
      },
      "execution_count": null,
      "outputs": [
        {
          "output_type": "display_data",
          "data": {
            "text/plain": [
              "<Figure size 640x480 with 1 Axes>"
            ],
            "image/png": "[encoded data removed]"
          },
          "metadata": {}
        }
      ]
    },
    {
      "cell_type": "markdown",
      "source": [
        "#**6. Further visualization of PCA.**"
      ],
      "metadata": {
        "id": "ldr9MILBj7KY"
      }
    },
    {
      "cell_type": "code",
      "source": [
        "# Calculate the cumulative explained variance\n",
        "cum_exp_variance = np.cumsum(exp_variance)\n",
        "\n",
        "# Plot the cumulative explained variance and draw a dashed line at 0.85.\n",
        "fig, ax = plt.subplots()\n",
        "ax.plot(range(1, len(cum_exp_variance) + 1), cum_exp_variance, marker='o', linestyle='-')\n",
        "ax.axhline(y=0.85, linestyle='--', color='red')\n",
        "\n",
        "# Add individual markers for each point\n",
        "ax.scatter(range(1, len(cum_exp_variance) + 1), cum_exp_variance, color='blue')\n",
        "\n",
        "for i, txt in enumerate(cum_exp_variance):\n",
        "    ax.annotate(round(txt, 4), (i+1, txt), textcoords=\"offset points\", xytext=(0,10), ha='center')\n",
        "ax.set_xlabel('Number of Principal Components')\n",
        "ax.set_ylabel('Cumulative Explained Variance')\n",
        "ax.set_title('Cumulative Explained Variance Plot')\n",
        "plt.show()\n"
      ],
      "metadata": {
        "colab": {
          "base_uri": "https://localhost:8080/",
          "height": 472
        },
        "id": "3QNmMSLkEXIB",
        "outputId": "626c5eb1-b06e-468d-e8c3-03fc1fdfc3f9"
      },
      "execution_count": null,
      "outputs": [
        {
          "output_type": "display_data",
          "data": {
            "text/plain": [
              "<Figure size 640x480 with 1 Axes>"
            ],
            "image/png": "[encoded data removed]"
          },
          "metadata": {}
        }
      ]
    },
    {
      "cell_type": "markdown",
      "source": [
        "The point where the cumulative explained variance curve crosses the red dashed line is a suitable number of principal components to retain for explaining at least 85% of the variance in the data.\n"
      ],
      "metadata": {
        "id": "6M28-ZJkLPJf"
      }
    },
    {
      "cell_type": "markdown",
      "source": [
        "#**7. Projecting on to our features.**"
      ],
      "metadata": {
        "id": "pSfMGSkFkC0E"
      }
    },
    {
      "cell_type": "code",
      "source": [
        "# Perform PCA with the chosen number of components and project data onto components\n",
        "pca = PCA(n_components=6,random_state=10)\n",
        "\n",
        "# Fit and transform the scaled training features using pca\n",
        "train_pca = pca.fit_transform(scaled_train_features)\n",
        "\n",
        "# Fit and transform the scaled test features using pca\n",
        "test_pca = pca.transform(scaled_test_features)"
      ],
      "metadata": {
        "id": "qKZDkXk9kPWc"
      },
      "execution_count": null,
      "outputs": []
    },
    {
      "cell_type": "code",
      "source": [
        "train_pca.shape"
      ],
      "metadata": {
        "colab": {
          "base_uri": "https://localhost:8080/"
        },
        "id": "NUcdv8hCXvPW",
        "outputId": "62f48e5e-d9ae-4569-c9b6-a83103a326a6"
      },
      "execution_count": null,
      "outputs": [
        {
          "output_type": "execute_result",
          "data": {
            "text/plain": [
              "(3601, 6)"
            ]
          },
          "metadata": {},
          "execution_count": 14
        }
      ]
    },
    {
      "cell_type": "code",
      "source": [
        "test_pca.shape"
      ],
      "metadata": {
        "colab": {
          "base_uri": "https://localhost:8080/"
        },
        "id": "7k61izDCX0Bc",
        "outputId": "f8878b9b-c0ed-4c0d-dd46-5f8f0cf62b05"
      },
      "execution_count": null,
      "outputs": [
        {
          "output_type": "execute_result",
          "data": {
            "text/plain": [
              "(1201, 6)"
            ]
          },
          "metadata": {},
          "execution_count": 15
        }
      ]
    },
    {
      "cell_type": "markdown",
      "source": [
        "#**8. Train a decision tree to classify genre.**\n"
      ],
      "metadata": {
        "id": "HNoknW3ikP6O"
      }
    },
    {
      "cell_type": "code",
      "source": [
        "# Train our decision tree\n",
        "tree = DecisionTreeClassifier(random_state=10, max_depth=10)\n",
        "tree.fit(train_pca, train_labels)\n",
        "\n",
        "# Predict the labels for the test data\n",
        "pred_labels_tree = tree.predict(test_pca)"
      ],
      "metadata": {
        "id": "Cp9ny9WxXWKp"
      },
      "execution_count": null,
      "outputs": []
    },
    {
      "cell_type": "code",
      "source": [
        "# Generate the classification report\n",
        "report_tree = classification_report(test_labels, pred_labels_tree)\n",
        "\n",
        "# Display the report\n",
        "print(\"Classification Report for Decision Tree:\")\n",
        "print(report_tree)"
      ],
      "metadata": {
        "colab": {
          "base_uri": "https://localhost:8080/"
        },
        "id": "MLd1Jd6rX3Y9",
        "outputId": "c319155f-0a33-4244-fb84-0dab02d2460d"
      },
      "execution_count": null,
      "outputs": [
        {
          "output_type": "stream",
          "name": "stdout",
          "text": [
            "Classification Report for Decision Tree:\n",
            "              precision    recall  f1-score   support\n",
            "\n",
            "     Hip-Hop       0.71      0.63      0.67       229\n",
            "        Rock       0.91      0.94      0.93       972\n",
            "\n",
            "    accuracy                           0.88      1201\n",
            "   macro avg       0.81      0.78      0.80      1201\n",
            "weighted avg       0.88      0.88      0.88      1201\n",
            "\n"
          ]
        }
      ]
    },
    {
      "cell_type": "code",
      "source": [
        "# Define the parameter grid for Decision Tree\n",
        "tree_param_grid = {\n",
        "    'max_depth': [None, 5, 10, 15, 20],\n",
        "    'min_samples_split': [2, 5, 10],\n",
        "    'min_samples_leaf': [1, 2, 4]\n",
        "}\n",
        "\n",
        "# Instantiate Decision Tree Classifier\n",
        "decision_tree = DecisionTreeClassifier(random_state=10)\n",
        "\n",
        "# GridSearchCV for Decision Tree\n",
        "tree_grid_search = GridSearchCV(estimator=decision_tree, param_grid=tree_param_grid,\n",
        "                                cv=3, n_jobs=-1, verbose=2, scoring='accuracy')\n",
        "\n",
        "# Fit the GridSearchCV on the training data\n",
        "tree_grid_search.fit(train_pca, train_labels.values.ravel())\n",
        "\n",
        "# Print the best parameters and corresponding accuracy\n",
        "print(\"Best Parameters for Decision Tree: \", tree_grid_search.best_params_)\n",
        "print(\"Best Accuracy for Decision Tree: \", tree_grid_search.best_score_)\n",
        "\n",
        "# Best model for Decision Tree\n",
        "best_tree_model = tree_grid_search.best_estimator_\n",
        "\n",
        "# Predictions on the test set using the best Decision Tree model\n",
        "best_tree_predictions = best_tree_model.predict(test_pca)\n",
        "\n",
        "# Evaluate the best Decision Tree model\n",
        "best_tree_accuracy = accuracy_score(test_labels, best_tree_predictions)\n",
        "best_tree_report = classification_report(test_labels, best_tree_predictions)\n",
        "\n",
        "print(f\"\\nBest Model Accuracy for Decision Tree: {best_tree_accuracy}\")\n",
        "print(\"\\nBest Model Classification Report for Decision Tree:\\n\", best_tree_report)"
      ],
      "metadata": {
        "colab": {
          "base_uri": "https://localhost:8080/"
        },
        "id": "9GtEMldkyMCC",
        "outputId": "ddb1b1ca-6279-42c3-8a20-68481b7c36f8"
      },
      "execution_count": null,
      "outputs": [
        {
          "output_type": "stream",
          "name": "stdout",
          "text": [
            "Fitting 3 folds for each of 45 candidates, totalling 135 fits\n",
            "Best Parameters for Decision Tree:  {'max_depth': 10, 'min_samples_leaf': 1, 'min_samples_split': 10}\n",
            "Best Accuracy for Decision Tree:  0.8733703395318715\n",
            "\n",
            "Best Model Accuracy for Decision Tree: 0.8776019983347211\n",
            "\n",
            "Best Model Classification Report for Decision Tree:\n",
            "               precision    recall  f1-score   support\n",
            "\n",
            "     Hip-Hop       0.71      0.61      0.66       229\n",
            "        Rock       0.91      0.94      0.93       972\n",
            "\n",
            "    accuracy                           0.88      1201\n",
            "   macro avg       0.81      0.78      0.79      1201\n",
            "weighted avg       0.87      0.88      0.87      1201\n",
            "\n"
          ]
        }
      ]
    },
    {
      "cell_type": "markdown",
      "source": [
        "Before PCA"
      ],
      "metadata": {
        "id": "9CdDDsUGPayw"
      }
    },
    {
      "cell_type": "code",
      "source": [
        "# Define the parameter grid for Decision Tree\n",
        "tree_param_grid = {\n",
        "    'max_depth': [None, 5, 10, 15, 20],\n",
        "    'min_samples_split': [2, 5, 10],\n",
        "    'min_samples_leaf': [1, 2, 4]\n",
        "}\n",
        "\n",
        "# Instantiate Decision Tree Classifier\n",
        "decision_tree = DecisionTreeClassifier(random_state=10)\n",
        "\n",
        "# GridSearchCV for Decision Tree\n",
        "tree_grid_search = GridSearchCV(estimator=decision_tree, param_grid=tree_param_grid,\n",
        "                                cv=3, n_jobs=-1, verbose=2, scoring='accuracy')\n",
        "\n",
        "# Fit the GridSearchCV on the training data\n",
        "tree_grid_search.fit(train_features, train_labels.values.ravel())\n",
        "\n",
        "# Print the best parameters and corresponding accuracy\n",
        "print(\"Best Parameters for Decision Tree: \", tree_grid_search.best_params_)\n",
        "print(\"Best Accuracy for Decision Tree: \", tree_grid_search.best_score_)\n",
        "\n",
        "# Best model for Decision Tree\n",
        "best_tree_model = tree_grid_search.best_estimator_\n",
        "\n",
        "# Predictions on the test set using the best Decision Tree model\n",
        "best_tree_predictions = best_tree_model.predict(test_features)\n",
        "\n",
        "# Evaluate the best Decision Tree model\n",
        "best_tree_accuracy_1 = accuracy_score(test_labels, best_tree_predictions)\n",
        "best_tree_report_1= classification_report(test_labels, best_tree_predictions)\n",
        "\n",
        "print(f\"\\nBest Model Accuracy for Decision Tree: {best_tree_accuracy_1}\")\n",
        "print(\"\\nBest Model Classification Report for Decision Tree:\\n\", best_tree_report_1)"
      ],
      "metadata": {
        "colab": {
          "base_uri": "https://localhost:8080/"
        },
        "id": "ng8cfxWLPZ1d",
        "outputId": "8b4f1c8f-077e-4fc7-d882-1aec636c4974"
      },
      "execution_count": null,
      "outputs": [
        {
          "output_type": "stream",
          "name": "stdout",
          "text": [
            "Fitting 3 folds for each of 45 candidates, totalling 135 fits\n",
            "Best Parameters for Decision Tree:  {'max_depth': 5, 'min_samples_leaf': 4, 'min_samples_split': 2}\n",
            "Best Accuracy for Decision Tree:  0.9036390970487557\n",
            "\n",
            "Best Model Accuracy for Decision Tree: 0.8934221482098251\n",
            "\n",
            "Best Model Classification Report for Decision Tree:\n",
            "               precision    recall  f1-score   support\n",
            "\n",
            "     Hip-Hop       0.76      0.65      0.70       229\n",
            "        Rock       0.92      0.95      0.94       972\n",
            "\n",
            "    accuracy                           0.89      1201\n",
            "   macro avg       0.84      0.80      0.82      1201\n",
            "weighted avg       0.89      0.89      0.89      1201\n",
            "\n"
          ]
        }
      ]
    },
    {
      "cell_type": "markdown",
      "source": [
        "#**9. Logistic Regression.**\n"
      ],
      "metadata": {
        "id": "kFWoa5FEVTZH"
      }
    },
    {
      "cell_type": "code",
      "source": [
        "log_reg = LogisticRegression(random_state=10)\n",
        "log_reg.fit(train_pca, train_labels)\n",
        "\n",
        "# Predict the labels for the test data\n",
        "pred_labels_lg = log_reg.predict(test_pca)"
      ],
      "metadata": {
        "id": "v2Iwj2FXH6-b",
        "colab": {
          "base_uri": "https://localhost:8080/"
        },
        "outputId": "891c7808-af32-4136-bfb7-31ae82a4133e"
      },
      "execution_count": null,
      "outputs": [
        {
          "output_type": "stream",
          "name": "stderr",
          "text": [
            "/usr/local/lib/python3.10/dist-packages/sklearn/utils/validation.py:1143: DataConversionWarning: A column-vector y was passed when a 1d array was expected. Please change the shape of y to (n_samples, ), for example using ravel().\n",
            "  y = column_or_1d(y, warn=True)\n"
          ]
        }
      ]
    },
    {
      "cell_type": "code",
      "source": [
        "# Generate the classification report\n",
        "report_lg = classification_report(test_labels, pred_labels_lg)\n",
        "\n",
        "# Display the report\n",
        "print(\"Classification Report for Logistic Regression:\")\n",
        "print(report_lg)"
      ],
      "metadata": {
        "id": "aGF63hDWH7g6",
        "colab": {
          "base_uri": "https://localhost:8080/"
        },
        "outputId": "10464902-f0ed-4cbe-8a6b-cbdc0ea7001a"
      },
      "execution_count": null,
      "outputs": [
        {
          "output_type": "stream",
          "name": "stdout",
          "text": [
            "Classification Report for Logistic Regression:\n",
            "              precision    recall  f1-score   support\n",
            "\n",
            "     Hip-Hop       0.75      0.51      0.61       229\n",
            "        Rock       0.89      0.96      0.93       972\n",
            "\n",
            "    accuracy                           0.87      1201\n",
            "   macro avg       0.82      0.74      0.77      1201\n",
            "weighted avg       0.87      0.87      0.86      1201\n",
            "\n"
          ]
        }
      ]
    },
    {
      "cell_type": "code",
      "source": [
        "# Parameters for grid to search\n",
        "param_grid = {\n",
        "    'C': [0.001, 0.01, 0.1, 1, 10, 100],\n",
        "    'penalty': ['l1', 'l2'],\n",
        "    'solver': ['liblinear', 'saga']\n",
        "}\n",
        "\n",
        "log_reg = LogisticRegression(random_state=10)\n",
        "\n",
        "# GridSearchCV\n",
        "grid_search = GridSearchCV(estimator=log_reg, param_grid=param_grid,\n",
        "                           cv=3, n_jobs=-1, verbose=2, scoring='accuracy')\n",
        "\n",
        "# Fit the GridSearchCV on the training data\n",
        "grid_search.fit(train_pca, train_labels.values.ravel())\n",
        "\n",
        "# Print the best parameters and corresponding accuracy\n",
        "print(\"Best Parameters: \", grid_search.best_params_)\n",
        "print(\"Best Accuracy: \", grid_search.best_score_)\n",
        "\n",
        "# Best model\n",
        "best_lg_model = grid_search.best_estimator_\n",
        "\n",
        "# Predictions on the test set using the best model\n",
        "best_predictions = best_lg_model.predict(test_pca)\n",
        "\n",
        "# Evaluate the best model\n",
        "best_accuracy = accuracy_score(test_labels, best_predictions)\n",
        "best_report = classification_report(test_labels, best_predictions)\n",
        "\n",
        "print(f\"\\nBest Model Accuracy for Logistic Regression: {best_accuracy}\")\n",
        "print(\"\\nBest Model Classification Report for Logistic Regression:\\n\", best_report)"
      ],
      "metadata": {
        "colab": {
          "base_uri": "https://localhost:8080/"
        },
        "id": "k1Jg6SxRbDYp",
        "outputId": "0e7ba610-41cd-4a8b-bb35-e51c3a61c88f"
      },
      "execution_count": null,
      "outputs": [
        {
          "output_type": "stream",
          "name": "stdout",
          "text": [
            "Fitting 3 folds for each of 24 candidates, totalling 72 fits\n",
            "Best Parameters:  {'C': 0.01, 'penalty': 'l2', 'solver': 'liblinear'}\n",
            "Best Accuracy:  0.8794796003330557\n",
            "\n",
            "Best Model Accuracy for Logistic Regression: 0.8784346378018318\n",
            "\n",
            "Best Model Classification Report for Logistic Regression:\n",
            "               precision    recall  f1-score   support\n",
            "\n",
            "     Hip-Hop       0.77      0.51      0.62       229\n",
            "        Rock       0.89      0.97      0.93       972\n",
            "\n",
            "    accuracy                           0.88      1201\n",
            "   macro avg       0.83      0.74      0.77      1201\n",
            "weighted avg       0.87      0.88      0.87      1201\n",
            "\n"
          ]
        }
      ]
    },
    {
      "cell_type": "code",
      "source": [
        "# Parameters for grid to search\n",
        "param_grid = {\n",
        "    'C': [0.001, 0.01, 0.1, 1, 10, 100],\n",
        "    'penalty': ['l1', 'l2'],\n",
        "    'solver': ['liblinear', 'saga']\n",
        "}\n",
        "\n",
        "log_reg = LogisticRegression(random_state=10)\n",
        "\n",
        "# GridSearchCV\n",
        "grid_search = GridSearchCV(estimator=log_reg, param_grid=param_grid,\n",
        "                           cv=3, n_jobs=-1, verbose=2, scoring='accuracy')\n",
        "\n",
        "# Fit the GridSearchCV on the training data\n",
        "grid_search.fit(train_features, train_labels.values.ravel())\n",
        "\n",
        "# Print the best parameters and corresponding accuracy\n",
        "print(\"Best Parameters: \", grid_search.best_params_)\n",
        "print(\"Best Accuracy: \", grid_search.best_score_)\n",
        "\n",
        "# Best model\n",
        "best_lg_model_1 = grid_search.best_estimator_\n",
        "\n",
        "# Predictions on the test set using the best model\n",
        "best_predictions_1 = best_lg_model_1.predict(test_features)\n",
        "\n",
        "# Evaluate the best model\n",
        "best_accuracy = accuracy_score(test_labels, best_predictions_1)\n",
        "best_report = classification_report(test_labels, best_predictions_1)\n",
        "\n",
        "print(f\"\\nBest Model Accuracy for Logistic Regression: {best_accuracy}\")\n",
        "print(\"\\nBest Model Classification Report for Logistic Regression:\\n\", best_report)"
      ],
      "metadata": {
        "colab": {
          "base_uri": "https://localhost:8080/"
        },
        "id": "88oxGFCJRAfE",
        "outputId": "8455e5d7-f484-4e7d-ec06-a9d33830b31d"
      },
      "execution_count": null,
      "outputs": [
        {
          "output_type": "stream",
          "name": "stdout",
          "text": [
            "Fitting 3 folds for each of 24 candidates, totalling 72 fits\n",
            "Best Parameters:  {'C': 10, 'penalty': 'l1', 'solver': 'liblinear'}\n",
            "Best Accuracy:  0.8925309926912757\n",
            "\n",
            "Best Model Accuracy for Logistic Regression: 0.8884263114071607\n",
            "\n",
            "Best Model Classification Report for Logistic Regression:\n",
            "               precision    recall  f1-score   support\n",
            "\n",
            "     Hip-Hop       0.79      0.57      0.66       229\n",
            "        Rock       0.90      0.96      0.93       972\n",
            "\n",
            "    accuracy                           0.89      1201\n",
            "   macro avg       0.85      0.77      0.80      1201\n",
            "weighted avg       0.88      0.89      0.88      1201\n",
            "\n"
          ]
        }
      ]
    },
    {
      "cell_type": "markdown",
      "source": [
        "#**10. Random Forest.**\n"
      ],
      "metadata": {
        "id": "nH18tMVPVZTg"
      }
    },
    {
      "cell_type": "code",
      "source": [
        "# Random forest classifier\n",
        "rf_classifier = RandomForestClassifier(n_estimators=100, random_state=10)\n",
        "\n",
        "# Fit the classifier on the training data\n",
        "rf_classifier.fit(train_pca, train_labels.values.ravel())  # ravel() to convert DataFrame to 1D array\n",
        "\n",
        "# Predictions on the test set\n",
        "rf_predictions = rf_classifier.predict(test_pca)\n",
        "\n",
        "# Evaluate the model\n",
        "accuracy = accuracy_score(test_labels, rf_predictions)\n",
        "report = classification_report(test_labels, rf_predictions)\n",
        "\n",
        "print(f\"Accuracy: {accuracy}\")\n",
        "print(\"\\nClassification Report for Random Forest:\\n\", report)"
      ],
      "metadata": {
        "id": "y3PNadDq_fuA",
        "colab": {
          "base_uri": "https://localhost:8080/"
        },
        "outputId": "f19d3f4f-5c68-4c57-991b-f62163918d6d"
      },
      "execution_count": null,
      "outputs": [
        {
          "output_type": "stream",
          "name": "stdout",
          "text": [
            "Accuracy: 0.9050791007493755\n",
            "\n",
            "Classification Report for Random Forest:\n",
            "               precision    recall  f1-score   support\n",
            "\n",
            "     Hip-Hop       0.84      0.62      0.71       229\n",
            "        Rock       0.92      0.97      0.94       972\n",
            "\n",
            "    accuracy                           0.91      1201\n",
            "   macro avg       0.88      0.80      0.83      1201\n",
            "weighted avg       0.90      0.91      0.90      1201\n",
            "\n"
          ]
        }
      ]
    },
    {
      "cell_type": "code",
      "source": [
        "# Parameters for grid to search\n",
        "param_grid = {\n",
        "    'n_estimators': [50, 100, 150],\n",
        "    'max_depth': [None, 10, 20, 30],\n",
        "    'min_samples_split': [2, 5, 10],\n",
        "    'min_samples_leaf': [1, 2, 4]\n",
        "}\n",
        "\n",
        "# Random forest classifier\n",
        "rf_classifier = RandomForestClassifier(random_state=10)\n",
        "\n",
        "# GridSearchCV\n",
        "grid_search = GridSearchCV(estimator=rf_classifier, param_grid=param_grid,\n",
        "                           cv=3, n_jobs=-1, verbose=2, scoring='accuracy')\n",
        "\n",
        "# Fit the GridSearchCV on the training data\n",
        "grid_search.fit(train_pca, train_labels.values.ravel())\n",
        "\n",
        "# Print the best parameters and corresponding accuracy\n",
        "print(\"Best Parameters: \", grid_search.best_params_)\n",
        "print(\"Best Accuracy: \", grid_search.best_score_)\n",
        "\n",
        "# Best model\n",
        "best_rf_model = grid_search.best_estimator_\n",
        "\n",
        "# Predictions on the test set using the best model\n",
        "best_predictions = best_rf_model.predict(test_pca)\n",
        "\n",
        "# Evaluate the best model\n",
        "best_accuracy = accuracy_score(test_labels, best_predictions)\n",
        "best_report = classification_report(test_labels, best_predictions)\n",
        "\n",
        "print(f\"\\nBest Model Accuracy for Random Forest: {best_accuracy}\")\n",
        "print(\"\\nBest Model Classification Report for Random Forest:\\n\", best_report)"
      ],
      "metadata": {
        "id": "X53jMRoa_1mc",
        "colab": {
          "base_uri": "https://localhost:8080/"
        },
        "outputId": "856dd9d3-737e-4a23-b5d7-3b6ef50c61b1"
      },
      "execution_count": null,
      "outputs": [
        {
          "output_type": "stream",
          "name": "stdout",
          "text": [
            "Fitting 3 folds for each of 108 candidates, totalling 324 fits\n",
            "Best Parameters:  {'max_depth': None, 'min_samples_leaf': 1, 'min_samples_split': 2, 'n_estimators': 100}\n",
            "Best Accuracy:  0.9028053011379406\n",
            "\n",
            "Best Model Accuracy for Random Forest: 0.9050791007493755\n",
            "\n",
            "Best Model Classification Report for Random Forest:\n",
            "               precision    recall  f1-score   support\n",
            "\n",
            "     Hip-Hop       0.84      0.62      0.71       229\n",
            "        Rock       0.92      0.97      0.94       972\n",
            "\n",
            "    accuracy                           0.91      1201\n",
            "   macro avg       0.88      0.80      0.83      1201\n",
            "weighted avg       0.90      0.91      0.90      1201\n",
            "\n"
          ]
        }
      ]
    },
    {
      "cell_type": "code",
      "source": [
        "# Parameters for grid to search\n",
        "param_grid = {\n",
        "    'n_estimators': [50, 100, 150],\n",
        "    'max_depth': [None, 10, 20, 30],\n",
        "    'min_samples_split': [2, 5, 10],\n",
        "    'min_samples_leaf': [1, 2, 4]\n",
        "}\n",
        "\n",
        "# Random forest classifier\n",
        "rf_classifier = RandomForestClassifier(random_state=10)\n",
        "\n",
        "# GridSearchCV\n",
        "grid_search = GridSearchCV(estimator=rf_classifier, param_grid=param_grid,\n",
        "                           cv=3, n_jobs=-1, verbose=2, scoring='accuracy')\n",
        "\n",
        "# Fit the GridSearchCV on the training data\n",
        "grid_search.fit(train_features, train_labels.values.ravel())\n",
        "\n",
        "# Print the best parameters and corresponding accuracy\n",
        "print(\"Best Parameters: \", grid_search.best_params_)\n",
        "print(\"Best Accuracy: \", grid_search.best_score_)\n",
        "\n",
        "# Best model\n",
        "best_rf_model_1 = grid_search.best_estimator_\n",
        "\n",
        "# Predictions on the test set using the best model\n",
        "best_predictions_1 = best_rf_model_1.predict(test_features)\n",
        "\n",
        "# Evaluate the best model\n",
        "best_accuracy = accuracy_score(test_labels, best_predictions_1)\n",
        "best_report = classification_report(test_labels, best_predictions_1)\n",
        "\n",
        "print(f\"\\nBest Model Accuracy for Random Forest: {best_accuracy}\")\n",
        "print(\"\\nBest Model Classification Report for Random Forest:\\n\", best_report)"
      ],
      "metadata": {
        "colab": {
          "base_uri": "https://localhost:8080/"
        },
        "id": "cW4O8XeQXNGR",
        "outputId": "f0cd9ad0-4e0c-430f-91e8-a7c27bc7b7c4"
      },
      "execution_count": null,
      "outputs": [
        {
          "output_type": "stream",
          "name": "stdout",
          "text": [
            "Fitting 3 folds for each of 108 candidates, totalling 324 fits\n",
            "Best Parameters:  {'max_depth': None, 'min_samples_leaf': 1, 'min_samples_split': 10, 'n_estimators': 150}\n",
            "Best Accuracy:  0.925022203719123\n",
            "\n",
            "Best Model Accuracy for Random Forest: 0.9192339716902581\n",
            "\n",
            "Best Model Classification Report for Random Forest:\n",
            "               precision    recall  f1-score   support\n",
            "\n",
            "     Hip-Hop       0.84      0.71      0.77       229\n",
            "        Rock       0.93      0.97      0.95       972\n",
            "\n",
            "    accuracy                           0.92      1201\n",
            "   macro avg       0.89      0.84      0.86      1201\n",
            "weighted avg       0.92      0.92      0.92      1201\n",
            "\n"
          ]
        }
      ]
    },
    {
      "cell_type": "markdown",
      "source": [
        "#**11. Support Vector Classification.**\n"
      ],
      "metadata": {
        "id": "2eRhEOuqVfAc"
      }
    },
    {
      "cell_type": "code",
      "source": [
        "# SVC Model classifier\n",
        "svc_model = SVC(kernel='linear', C=1.0)\n",
        "\n",
        "# Train the model on the training data\n",
        "svc_model.fit(train_pca, train_labels)\n",
        "pred_labels_svc = svc_model.predict(test_pca)"
      ],
      "metadata": {
        "colab": {
          "base_uri": "https://localhost:8080/"
        },
        "id": "eDSeA_Y9bhMy",
        "outputId": "5ff61e15-3c01-42f6-a2cc-07f9bcea36d8"
      },
      "execution_count": null,
      "outputs": [
        {
          "output_type": "stream",
          "name": "stderr",
          "text": [
            "/usr/local/lib/python3.10/dist-packages/sklearn/utils/validation.py:1143: DataConversionWarning: A column-vector y was passed when a 1d array was expected. Please change the shape of y to (n_samples, ), for example using ravel().\n",
            "  y = column_or_1d(y, warn=True)\n"
          ]
        }
      ]
    },
    {
      "cell_type": "code",
      "source": [
        "# Generate the classification report\n",
        "report_svc = classification_report(test_labels, pred_labels_svc)\n",
        "\n",
        "# Display the report\n",
        "print(\"Classification Report for SVC:\")\n",
        "print(report_svc)"
      ],
      "metadata": {
        "colab": {
          "base_uri": "https://localhost:8080/"
        },
        "id": "rQFUKcfWbhvU",
        "outputId": "a7358db7-bba2-43f2-a282-5a2937dbbf8a"
      },
      "execution_count": null,
      "outputs": [
        {
          "output_type": "stream",
          "name": "stdout",
          "text": [
            "Classification Report for SVC:\n",
            "              precision    recall  f1-score   support\n",
            "\n",
            "     Hip-Hop       0.80      0.51      0.62       229\n",
            "        Rock       0.89      0.97      0.93       972\n",
            "\n",
            "    accuracy                           0.88      1201\n",
            "   macro avg       0.85      0.74      0.78      1201\n",
            "weighted avg       0.88      0.88      0.87      1201\n",
            "\n"
          ]
        }
      ]
    },
    {
      "cell_type": "code",
      "source": [
        "from sklearn.model_selection import GridSearchCV\n",
        "from sklearn.svm import SVC\n",
        "from sklearn.metrics import accuracy_score, classification_report\n",
        "\n",
        "# Parameters for grid to search\n",
        "param_grid = {\n",
        "    'C': [0.001, 0.01, 0.1, 1, 10, 100],\n",
        "    'kernel': ['linear'],\n",
        "}\n",
        "\n",
        "svc_model = SVC()\n",
        "\n",
        "# GridSearchCV\n",
        "grid_search = GridSearchCV(estimator=svc_model, param_grid=param_grid,\n",
        "                           cv=3, n_jobs=-1, verbose=2, scoring='accuracy')\n",
        "\n",
        "# Fit the GridSearchCV on the training data\n",
        "grid_search.fit(train_pca, train_labels.values.ravel())\n",
        "\n",
        "# Print the best parameters and corresponding accuracy\n",
        "print(\"Best Parameters for SVC (linear kernel): \", grid_search.best_params_)\n",
        "print(\"Best Accuracy for SVC (linear kernel): \", grid_search.best_score_)\n",
        "\n",
        "# Best model\n",
        "best_svc_model = grid_search.best_estimator_\n",
        "\n",
        "# Predictions on the test set using the best model\n",
        "best_predictions = best_svc_model.predict(test_pca)\n",
        "\n",
        "# Evaluate the best model\n",
        "best_accuracy = accuracy_score(test_labels, best_predictions)\n",
        "best_report = classification_report(test_labels, best_predictions)\n",
        "\n",
        "print(f\"\\nBest Model Accuracy for SVC: {best_accuracy}\")\n",
        "print(\"\\nBest Model Classification Report for SVC:\\n\", best_report)"
      ],
      "metadata": {
        "colab": {
          "base_uri": "https://localhost:8080/"
        },
        "id": "ub4K38yQblfk",
        "outputId": "01791c09-1087-4ee0-c863-af4dec2f28e8"
      },
      "execution_count": null,
      "outputs": [
        {
          "output_type": "stream",
          "name": "stdout",
          "text": [
            "Fitting 3 folds for each of 6 candidates, totalling 18 fits\n",
            "Best Parameters for SVC (linear kernel):  {'C': 1, 'kernel': 'linear'}\n",
            "Best Accuracy for SVC (linear kernel):  0.8822555278009067\n",
            "\n",
            "Best Model Accuracy for SVC: 0.8817651956702748\n",
            "\n",
            "Best Model Classification Report for SVC:\n",
            "               precision    recall  f1-score   support\n",
            "\n",
            "     Hip-Hop       0.80      0.51      0.62       229\n",
            "        Rock       0.89      0.97      0.93       972\n",
            "\n",
            "    accuracy                           0.88      1201\n",
            "   macro avg       0.85      0.74      0.78      1201\n",
            "weighted avg       0.88      0.88      0.87      1201\n",
            "\n"
          ]
        }
      ]
    },
    {
      "cell_type": "code",
      "source": [
        "from sklearn.model_selection import GridSearchCV\n",
        "from sklearn.svm import SVC\n",
        "from sklearn.metrics import accuracy_score, classification_report\n",
        "\n",
        "# Parameters for grid to search\n",
        "param_grid = {\n",
        "    'C': [0.001, 0.01, 0.1, 1, 10, 100],\n",
        "    'kernel': ['linear'],\n",
        "}\n",
        "\n",
        "svc_model = SVC()\n",
        "\n",
        "# GridSearchCV\n",
        "grid_search = GridSearchCV(estimator=svc_model, param_grid=param_grid,\n",
        "                           cv=3, n_jobs=-1, verbose=2, scoring='accuracy')\n",
        "\n",
        "# Fit the GridSearchCV on the training data\n",
        "grid_search.fit(train_features, train_labels.values.ravel())\n",
        "\n",
        "# Print the best parameters and corresponding accuracy\n",
        "print(\"Best Parameters for SVC (linear kernel): \", grid_search.best_params_)\n",
        "print(\"Best Accuracy for SVC (linear kernel): \", grid_search.best_score_)\n",
        "\n",
        "# Best model\n",
        "best_svc_model_1 = grid_search.best_estimator_\n",
        "\n",
        "# Predictions on the test set using the best model\n",
        "best_predictions_1 = best_svc_model_1.predict(test_features)\n",
        "\n",
        "# Evaluate the best model\n",
        "best_accuracy = accuracy_score(test_labels, best_predictions_1)\n",
        "best_report = classification_report(test_labels, best_predictions_1)\n",
        "\n",
        "print(f\"\\nBest Model Accuracy for SVC: {best_accuracy}\")\n",
        "print(\"\\nBest Model Classification Report for SVC:\\n\", best_report)"
      ],
      "metadata": {
        "colab": {
          "base_uri": "https://localhost:8080/"
        },
        "id": "sTZwgrUgZQuH",
        "outputId": "f0c0220d-fdcb-4cf5-b764-4563be3f5f30"
      },
      "execution_count": null,
      "outputs": [
        {
          "output_type": "stream",
          "name": "stdout",
          "text": [
            "Fitting 3 folds for each of 6 candidates, totalling 18 fits\n",
            "Best Parameters for SVC (linear kernel):  {'C': 100, 'kernel': 'linear'}\n",
            "Best Accuracy for SVC (linear kernel):  0.893087473401795\n",
            "\n",
            "Best Model Accuracy for SVC: 0.890924229808493\n",
            "\n",
            "Best Model Classification Report for SVC:\n",
            "               precision    recall  f1-score   support\n",
            "\n",
            "     Hip-Hop       0.80      0.57      0.67       229\n",
            "        Rock       0.91      0.97      0.93       972\n",
            "\n",
            "    accuracy                           0.89      1201\n",
            "   macro avg       0.85      0.77      0.80      1201\n",
            "weighted avg       0.89      0.89      0.88      1201\n",
            "\n"
          ]
        }
      ]
    },
    {
      "cell_type": "markdown",
      "source": [
        "#**12. KNN**\n"
      ],
      "metadata": {
        "id": "bEaSxfgwVueU"
      }
    },
    {
      "cell_type": "code",
      "source": [
        "# Instantiate the class\n",
        "knn = KNeighborsClassifier(n_neighbors=9)\n",
        "\n",
        "# Fit the classifier on the training data\n",
        "knn.fit(train_pca, train_labels.values.ravel())\n",
        "\n",
        "# Predictions on the test set\n",
        "knn_predict = knn.predict(test_pca)\n",
        "\n",
        "# Evaluate the model\n",
        "accuracy = accuracy_score(test_labels, knn_predict)\n",
        "report = classification_report(test_labels, knn_predict)\n",
        "\n",
        "print(f\"Accuracy: {accuracy}\")\n",
        "print(\"\\nClassification Report for KNN:\\n\", report)"
      ],
      "metadata": {
        "colab": {
          "base_uri": "https://localhost:8080/"
        },
        "id": "GVnGLuz9bUdO",
        "outputId": "7501822b-aae7-45d5-c738-b5c4cd991d87"
      },
      "execution_count": null,
      "outputs": [
        {
          "output_type": "stream",
          "name": "stdout",
          "text": [
            "Accuracy: 0.9042464612822648\n",
            "\n",
            "Classification Report for KNN:\n",
            "               precision    recall  f1-score   support\n",
            "\n",
            "     Hip-Hop       0.83      0.63      0.71       229\n",
            "        Rock       0.92      0.97      0.94       972\n",
            "\n",
            "    accuracy                           0.90      1201\n",
            "   macro avg       0.87      0.80      0.83      1201\n",
            "weighted avg       0.90      0.90      0.90      1201\n",
            "\n"
          ]
        }
      ]
    },
    {
      "cell_type": "code",
      "source": [
        "# Defining the parameter values that should be searched\n",
        "k_range = list(range(1, 10))\n",
        "print(k_range)\n",
        "\n",
        "# Create a parameter grid: Map the parameter names to the values that should be searched\n",
        "param_grid = dict(n_neighbors=k_range)\n",
        "print(param_grid)\n",
        "\n",
        "# Instantiate the grid\n",
        "grid = GridSearchCV(knn, param_grid, cv=10, scoring='accuracy')\n",
        "\n",
        "# Fit the grid with data\n",
        "grid.fit(train_pca, train_labels.values.ravel())\n",
        "\n",
        "# Print the best parameters\n",
        "print(\"Best Parameters: \",grid.best_params_)\n",
        "\n",
        "# Best knn model\n",
        "best_knn_model = grid.best_estimator_\n",
        "\n",
        "# Predictions on the test set using the best model\n",
        "best_knn_predictions = best_knn_model.predict(test_pca)\n",
        "\n",
        "# Evaluate the best model\n",
        "best_knn_accuracy = accuracy_score(test_labels, best_knn_predictions)\n",
        "best_knn_report = classification_report(test_labels, best_knn_predictions)\n",
        "\n",
        "print(f\"\\nBest Model Accuracy for KNN: {best_knn_accuracy}\")\n",
        "print(\"\\nBest Model Classification Report for KNN:\\n\", best_knn_report)"
      ],
      "metadata": {
        "colab": {
          "base_uri": "https://localhost:8080/"
        },
        "id": "7XTWrXYgxxQj",
        "outputId": "7a41b6a6-a9b7-4672-b049-5a35a5dce176"
      },
      "execution_count": null,
      "outputs": [
        {
          "output_type": "stream",
          "name": "stdout",
          "text": [
            "[1, 2, 3, 4, 5, 6, 7, 8, 9]\n",
            "{'n_neighbors': [1, 2, 3, 4, 5, 6, 7, 8, 9]}\n",
            "Best Parameters:  {'n_neighbors': 9}\n",
            "\n",
            "Best Model Accuracy for KNN: 0.9042464612822648\n",
            "\n",
            "Best Model Classification Report for KNN:\n",
            "               precision    recall  f1-score   support\n",
            "\n",
            "     Hip-Hop       0.83      0.63      0.71       229\n",
            "        Rock       0.92      0.97      0.94       972\n",
            "\n",
            "    accuracy                           0.90      1201\n",
            "   macro avg       0.87      0.80      0.83      1201\n",
            "weighted avg       0.90      0.90      0.90      1201\n",
            "\n"
          ]
        }
      ]
    },
    {
      "cell_type": "code",
      "source": [
        "# Defining the parameter values that should be searched\n",
        "knn = KNeighborsClassifier(n_neighbors=9)\n",
        "k_range = list(range(1, 10))\n",
        "print(k_range)\n",
        "\n",
        "# Create a parameter grid: Map the parameter names to the values that should be searched\n",
        "param_grid = dict(n_neighbors=k_range)\n",
        "print(param_grid)\n",
        "\n",
        "# Instantiate the grid\n",
        "grid = GridSearchCV(knn, param_grid, cv=10, scoring='accuracy')\n",
        "\n",
        "# Fit the grid with data\n",
        "grid.fit(train_features, train_labels.values.ravel())\n",
        "\n",
        "# Print the best parameters\n",
        "print(\"Best Parameters: \",grid.best_params_)\n",
        "\n",
        "# Best knn model\n",
        "best_knn_model_1 = grid.best_estimator_\n",
        "\n",
        "# Predictions on the test set using the best model\n",
        "best_knn_predictions_1 = best_knn_model_1.predict(test_features)\n",
        "\n",
        "# Evaluate the best model\n",
        "best_knn_accuracy = accuracy_score(test_labels, best_knn_predictions_1)\n",
        "best_knn_report = classification_report(test_labels, best_knn_predictions_1)\n",
        "\n",
        "print(f\"\\nBest Model Accuracy for KNN: {best_knn_accuracy}\")\n",
        "print(\"\\nBest Model Classification Report for KNN:\\n\", best_knn_report)"
      ],
      "metadata": {
        "colab": {
          "base_uri": "https://localhost:8080/"
        },
        "id": "jccKejC4aYP1",
        "outputId": "3c4560ba-a294-447a-820c-cc993d788506"
      },
      "execution_count": null,
      "outputs": [
        {
          "output_type": "stream",
          "name": "stdout",
          "text": [
            "[1, 2, 3, 4, 5, 6, 7, 8, 9]\n",
            "{'n_neighbors': [1, 2, 3, 4, 5, 6, 7, 8, 9]}\n",
            "Best Parameters:  {'n_neighbors': 5}\n",
            "\n",
            "Best Model Accuracy for KNN: 0.858451290591174\n",
            "\n",
            "Best Model Classification Report for KNN:\n",
            "               precision    recall  f1-score   support\n",
            "\n",
            "     Hip-Hop       0.72      0.43      0.54       229\n",
            "        Rock       0.88      0.96      0.92       972\n",
            "\n",
            "    accuracy                           0.86      1201\n",
            "   macro avg       0.80      0.69      0.73      1201\n",
            "weighted avg       0.85      0.86      0.84      1201\n",
            "\n"
          ]
        }
      ]
    },
    {
      "cell_type": "markdown",
      "source": [
        "#**13. Compare our models.**"
      ],
      "metadata": {
        "id": "qEAYCN1JkabB"
      }
    },
    {
      "cell_type": "code",
      "source": [
        "# Import LogisticRegression\n",
        "from sklearn.linear_model import LogisticRegression\n",
        "\n",
        "# Train our logistic regression and predict labels for the test set\n",
        "tree.fit(train_pca, train_labels)\n",
        "pred_labels_tree2 = tree.predict(test_pca)\n",
        "\n",
        "log_reg.fit(train_pca, train_labels)\n",
        "pred_labels_lg = log_reg.predict(test_pca)\n",
        "\n",
        "rf_classifier.fit(train_pca, train_labels)\n",
        "rf_pred = rf_classifier.predict(test_pca)\n",
        "\n",
        "svc_model.fit(train_pca, train_labels)\n",
        "svc_pred = svc_model.predict(test_pca)\n",
        "\n",
        "knn.fit(train_pca, train_labels)\n",
        "knn_pred = knn.predict(test_pca)\n",
        "\n",
        "# Create the classification report for both models\n",
        "from sklearn.metrics import classification_report\n",
        "class_rep_tree = classification_report(test_labels, pred_labels_tree2)\n",
        "class_rep_lg = classification_report(test_labels, pred_labels_lg)\n",
        "class_rep_rf = classification_report(test_labels, rf_pred)\n",
        "class_rep_svc = classification_report(test_labels, svc_pred)\n",
        "class_rep_knn = classification_report(test_labels, knn_pred)\n",
        "print(\"Decision Tree: \\n\", class_rep_tree)\n",
        "print(\"Logistic Regression: \\n\", class_rep_lg)\n",
        "print(\"Random Forest: \\n\", class_rep_rf)\n",
        "print(\"SVC: \\n\", class_rep_svc)\n",
        "print(\"KNN: \\n\", class_rep_knn)"
      ],
      "metadata": {
        "id": "uzVB0LSzkfMQ",
        "colab": {
          "base_uri": "https://localhost:8080/"
        },
        "outputId": "656e252a-6ede-449e-cc68-97cc4faec5e2"
      },
      "execution_count": null,
      "outputs": [
        {
          "output_type": "stream",
          "name": "stderr",
          "text": [
            "/usr/local/lib/python3.10/dist-packages/sklearn/utils/validation.py:1143: DataConversionWarning: A column-vector y was passed when a 1d array was expected. Please change the shape of y to (n_samples, ), for example using ravel().\n",
            "  y = column_or_1d(y, warn=True)\n",
            "<ipython-input-66-85b207451028>:11: DataConversionWarning: A column-vector y was passed when a 1d array was expected. Please change the shape of y to (n_samples,), for example using ravel().\n",
            "  rf_classifier.fit(train_pca, train_labels)\n",
            "/usr/local/lib/python3.10/dist-packages/sklearn/utils/validation.py:1143: DataConversionWarning: A column-vector y was passed when a 1d array was expected. Please change the shape of y to (n_samples, ), for example using ravel().\n",
            "  y = column_or_1d(y, warn=True)\n",
            "/usr/local/lib/python3.10/dist-packages/sklearn/neighbors/_classification.py:215: DataConversionWarning: A column-vector y was passed when a 1d array was expected. Please change the shape of y to (n_samples,), for example using ravel().\n",
            "  return self._fit(X, y)\n"
          ]
        },
        {
          "output_type": "stream",
          "name": "stdout",
          "text": [
            "Decision Tree: \n",
            "               precision    recall  f1-score   support\n",
            "\n",
            "     Hip-Hop       0.71      0.63      0.67       229\n",
            "        Rock       0.91      0.94      0.93       972\n",
            "\n",
            "    accuracy                           0.88      1201\n",
            "   macro avg       0.81      0.78      0.80      1201\n",
            "weighted avg       0.88      0.88      0.88      1201\n",
            "\n",
            "Logistic Regression: \n",
            "               precision    recall  f1-score   support\n",
            "\n",
            "     Hip-Hop       0.75      0.51      0.61       229\n",
            "        Rock       0.89      0.96      0.93       972\n",
            "\n",
            "    accuracy                           0.87      1201\n",
            "   macro avg       0.82      0.74      0.77      1201\n",
            "weighted avg       0.87      0.87      0.86      1201\n",
            "\n",
            "Random Forest: \n",
            "               precision    recall  f1-score   support\n",
            "\n",
            "     Hip-Hop       0.84      0.62      0.71       229\n",
            "        Rock       0.92      0.97      0.94       972\n",
            "\n",
            "    accuracy                           0.91      1201\n",
            "   macro avg       0.88      0.80      0.83      1201\n",
            "weighted avg       0.90      0.91      0.90      1201\n",
            "\n",
            "SVC: \n",
            "               precision    recall  f1-score   support\n",
            "\n",
            "     Hip-Hop       0.88      0.62      0.73       229\n",
            "        Rock       0.92      0.98      0.95       972\n",
            "\n",
            "    accuracy                           0.91      1201\n",
            "   macro avg       0.90      0.80      0.84      1201\n",
            "weighted avg       0.91      0.91      0.90      1201\n",
            "\n",
            "KNN: \n",
            "               precision    recall  f1-score   support\n",
            "\n",
            "     Hip-Hop       0.83      0.63      0.71       229\n",
            "        Rock       0.92      0.97      0.94       972\n",
            "\n",
            "    accuracy                           0.90      1201\n",
            "   macro avg       0.87      0.80      0.83      1201\n",
            "weighted avg       0.90      0.90      0.90      1201\n",
            "\n"
          ]
        }
      ]
    },
    {
      "cell_type": "markdown",
      "source": [
        "#**14. Balance our data for greater performance.**"
      ],
      "metadata": {
        "id": "XFznNrAqkkPp"
      }
    },
    {
      "cell_type": "code",
      "source": [
        "# Subset only the hip-hop tracks, and then only the rock tracks\n",
        "hop_only = echo_tracks[echo_tracks['genre_top'] == 'Hip-Hop']\n",
        "rock_only = echo_tracks[echo_tracks['genre_top'] == 'Rock']\n",
        "\n",
        "# sample the rocks songs to be the same number as there are hip-hop songs\n",
        "rock_only = rock_only.sample(n=len(hop_only), random_state=10)\n",
        "\n",
        "# concatenate the dataframes rock_only and hop_only\n",
        "rock_hop_bal = pd.concat([rock_only, hop_only])\n",
        "\n",
        "# The features, labels, and pca projection are created for the balanced dataframe\n",
        "features = rock_hop_bal.drop(['genre_top', 'track_id'], axis=1)\n",
        "labels = rock_hop_bal['genre_top']\n",
        "\n",
        "# Redefine the train and test set with the pca_projection from the balanced data\n",
        "train_features, test_features, train_labels2, test_labels2 = train_test_split(features, labels, random_state=10)\n",
        "\n",
        "train_pca2 = pca.fit_transform(scaler.fit_transform(train_features))\n",
        "test_pca2 = pca.transform(scaler.transform(test_features))"
      ],
      "metadata": {
        "id": "BpuxLOq8kpzc"
      },
      "execution_count": null,
      "outputs": []
    },
    {
      "cell_type": "code",
      "source": [
        "labels.value_counts()"
      ],
      "metadata": {
        "colab": {
          "base_uri": "https://localhost:8080/"
        },
        "id": "dpQJ8nceFMgV",
        "outputId": "e53a9edc-32a1-4bdd-fa49-29e06de25d29"
      },
      "execution_count": null,
      "outputs": [
        {
          "output_type": "execute_result",
          "data": {
            "text/plain": [
              "Rock       910\n",
              "Hip-Hop    910\n",
              "Name: genre_top, dtype: int64"
            ]
          },
          "metadata": {},
          "execution_count": 68
        }
      ]
    },
    {
      "cell_type": "markdown",
      "source": [
        "#**15. Does balancing our dataset improve model bias?**"
      ],
      "metadata": {
        "id": "Dmyd2uxokuy-"
      }
    },
    {
      "cell_type": "code",
      "source": [
        "# Train our decision tree on the balanced data\n",
        "tree = DecisionTreeClassifier(random_state=10, max_depth=10)\n",
        "tree.fit(train_pca2, train_labels2)\n",
        "pred_labels_tree = tree.predict(test_pca2)\n",
        "\n",
        "# Train our logistic regression on the balanced data\n",
        "logreg = LogisticRegression(random_state=10, C=0.01, penalty='l2', solver='liblinear')\n",
        "logreg.fit(train_pca2, train_labels2)\n",
        "pred_labels_logit = logreg.predict(test_pca2)\n",
        "\n",
        "# Train our random forest on the balanced data\n",
        "rf = RandomForestClassifier(n_estimators=100, random_state=10)\n",
        "rf.fit(train_pca2, train_labels2)\n",
        "pred_labels_rf = rf.predict(test_pca2)\n",
        "\n",
        "#Train our SVC on balanced data\n",
        "svc = SVC(random_state=10)\n",
        "svc.fit(train_pca2, train_labels2)\n",
        "pred_labels_svc = svc.predict(test_pca2)\n",
        "\n",
        "# Train our knn on the balanced data\n",
        "knn = KNeighborsClassifier(n_neighbors=9)\n",
        "knn.fit(train_pca2, train_labels2)\n",
        "pred_labels_knn = knn.predict(test_pca2)\n",
        "\n",
        "# Compare the models\n",
        "print(\"Decision Tree - Balanced Data:\\n\", classification_report(test_labels2, pred_labels_tree))\n",
        "print(\"Logistic Regression - Balanced Data:\\n\", classification_report(test_labels2, pred_labels_logit))\n",
        "print(\"Random Forest - Balanced Data:\\n\", classification_report(test_labels2, pred_labels_rf))\n",
        "print(\"SVC - Balanced Data:\\n\", classification_report(test_labels2, pred_labels_svc))\n",
        "print(\"KNN - Balanced Data:\\n\", classification_report(test_labels2, pred_labels_knn))"
      ],
      "metadata": {
        "id": "jUXMzGo9k0JC",
        "colab": {
          "base_uri": "https://localhost:8080/"
        },
        "outputId": "0c86d632-e449-4cda-f009-0427b045b54e"
      },
      "execution_count": null,
      "outputs": [
        {
          "output_type": "stream",
          "name": "stdout",
          "text": [
            "Decision Tree - Balanced Data:\n",
            "               precision    recall  f1-score   support\n",
            "\n",
            "     Hip-Hop       0.83      0.78      0.81       230\n",
            "        Rock       0.79      0.84      0.81       225\n",
            "\n",
            "    accuracy                           0.81       455\n",
            "   macro avg       0.81      0.81      0.81       455\n",
            "weighted avg       0.81      0.81      0.81       455\n",
            "\n",
            "Logistic Regression - Balanced Data:\n",
            "               precision    recall  f1-score   support\n",
            "\n",
            "     Hip-Hop       0.84      0.80      0.82       230\n",
            "        Rock       0.81      0.84      0.82       225\n",
            "\n",
            "    accuracy                           0.82       455\n",
            "   macro avg       0.82      0.82      0.82       455\n",
            "weighted avg       0.82      0.82      0.82       455\n",
            "\n",
            "Random Forest - Balanced Data:\n",
            "               precision    recall  f1-score   support\n",
            "\n",
            "     Hip-Hop       0.87      0.82      0.84       230\n",
            "        Rock       0.82      0.88      0.85       225\n",
            "\n",
            "    accuracy                           0.85       455\n",
            "   macro avg       0.85      0.85      0.85       455\n",
            "weighted avg       0.85      0.85      0.85       455\n",
            "\n",
            "SVC - Balanced Data:\n",
            "               precision    recall  f1-score   support\n",
            "\n",
            "     Hip-Hop       0.88      0.83      0.86       230\n",
            "        Rock       0.84      0.88      0.86       225\n",
            "\n",
            "    accuracy                           0.86       455\n",
            "   macro avg       0.86      0.86      0.86       455\n",
            "weighted avg       0.86      0.86      0.86       455\n",
            "\n",
            "KNN - Balanced Data:\n",
            "               precision    recall  f1-score   support\n",
            "\n",
            "     Hip-Hop       0.89      0.81      0.85       230\n",
            "        Rock       0.82      0.90      0.86       225\n",
            "\n",
            "    accuracy                           0.85       455\n",
            "   macro avg       0.86      0.86      0.85       455\n",
            "weighted avg       0.86      0.85      0.85       455\n",
            "\n"
          ]
        }
      ]
    },
    {
      "cell_type": "markdown",
      "source": [
        "#**16. Using cross-validation to evaluate our models.**"
      ],
      "metadata": {
        "id": "NZVMqOf2k2u8"
      }
    },
    {
      "cell_type": "code",
      "source": [
        "#### We should use this section for all the models each of us selected\n",
        "from sklearn.model_selection import KFold, cross_val_score\n",
        "from sklearn.pipeline import Pipeline\n",
        "tree_pipe = Pipeline([(\"scaler\", StandardScaler()), (\"pca\", PCA(n_components=6)),\n",
        "                      (\"tree\", DecisionTreeClassifier(random_state=10, max_depth=10))])\n",
        "logreg_pipe = Pipeline([(\"scaler\", StandardScaler()), (\"pca\", PCA(n_components=6)),\n",
        "                        (\"logreg\", LogisticRegression(random_state=10,C=0.01, penalty='l2', solver='liblinear'))])\n",
        "rf_pipe = Pipeline([(\"scaler\", StandardScaler()), (\"pca\", PCA(n_components=6)),\n",
        "                        (\"rf\", RandomForestClassifier(n_estimators=100, random_state=10))])\n",
        "svc_pipe = Pipeline([(\"scaler\", StandardScaler()), (\"pca\", PCA(n_components=6)),\n",
        "                        (\"svc\", SVC())])\n",
        "knn_pipe = Pipeline([(\"scaler\", StandardScaler()), (\"pca\", PCA(n_components=6)),\n",
        "                        (\"knn\", KNeighborsClassifier(n_neighbors=9))])\n",
        "\n",
        "# Set up our K-fold cross-validation\n",
        "kf = KFold(n_splits=10)\n",
        "\n",
        "# Train our models using KFold cv\n",
        "tree_score = cross_val_score(tree_pipe, features, labels, cv=kf)\n",
        "logit_score = cross_val_score(logreg_pipe, features, labels, cv=kf)\n",
        "rf_score = cross_val_score(rf_pipe, features, labels, cv=kf)\n",
        "svc_score = cross_val_score(svc_pipe, features, labels, cv=kf)\n",
        "knn_score = cross_val_score(knn_pipe, features, labels, cv=kf)\n",
        "\n",
        "# Print the mean of each array of scores\n",
        "print(\"Decision Tree - Cross-Validation Mean:\", tree_score.mean())\n",
        "print(\"Logistic Regression - Cross-Validation Mean:\", logit_score.mean())\n",
        "print(\"Random Forest - Cross-Validation Mean:\", rf_score.mean())\n",
        "print(\"SVC - Cross-Validation Mean:\", svc_score.mean())\n",
        "print(\"KNN - Cross-Validation Mean:\", knn_score.mean())"
      ],
      "metadata": {
        "id": "1sK66T8g0ORn",
        "colab": {
          "base_uri": "https://localhost:8080/"
        },
        "outputId": "73198ae7-1109-4389-83f0-6e525e8c5212"
      },
      "execution_count": null,
      "outputs": [
        {
          "output_type": "stream",
          "name": "stdout",
          "text": [
            "Decision Tree - Cross-Validation Mean: 0.7554945054945055\n",
            "Logistic Regression - Cross-Validation Mean: 0.7912087912087912\n",
            "Random Forest - Cross-Validation Mean: 0.8054945054945055\n",
            "SVC - Cross-Validation Mean: 0.8164835164835166\n",
            "KNN - Cross-Validation Mean: 0.815934065934066\n"
          ]
        }
      ]
    }
  ]
}